{
 "cells": [
  {
   "cell_type": "code",
   "execution_count": 5,
   "id": "d57beec7",
   "metadata": {},
   "outputs": [
    {
     "name": "stderr",
     "output_type": "stream",
     "text": [
      "c:\\users\\karan\\appdata\\local\\programs\\python\\python39\\lib\\site-packages\\IPython\\core\\interactiveshell.py:3444: DtypeWarning: Columns (1) have mixed types.Specify dtype option on import or set low_memory=False.\n",
      "  exec(code_obj, self.user_global_ns, self.user_ns)\n"
     ]
    },
    {
     "data": {
      "text/html": [
       "<div>\n",
       "<style scoped>\n",
       "    .dataframe tbody tr th:only-of-type {\n",
       "        vertical-align: middle;\n",
       "    }\n",
       "\n",
       "    .dataframe tbody tr th {\n",
       "        vertical-align: top;\n",
       "    }\n",
       "\n",
       "    .dataframe thead th {\n",
       "        text-align: right;\n",
       "    }\n",
       "</style>\n",
       "<table border=\"1\" class=\"dataframe\">\n",
       "  <thead>\n",
       "    <tr style=\"text-align: right;\">\n",
       "      <th></th>\n",
       "      <th>match_id</th>\n",
       "      <th>season</th>\n",
       "      <th>start_date</th>\n",
       "      <th>venue</th>\n",
       "      <th>innings</th>\n",
       "      <th>ball</th>\n",
       "      <th>batting_team</th>\n",
       "      <th>bowling_team</th>\n",
       "      <th>striker</th>\n",
       "      <th>non_striker</th>\n",
       "      <th>...</th>\n",
       "      <th>extras</th>\n",
       "      <th>wides</th>\n",
       "      <th>noballs</th>\n",
       "      <th>byes</th>\n",
       "      <th>legbyes</th>\n",
       "      <th>penalty</th>\n",
       "      <th>wicket_type</th>\n",
       "      <th>player_dismissed</th>\n",
       "      <th>other_wicket_type</th>\n",
       "      <th>other_player_dismissed</th>\n",
       "    </tr>\n",
       "  </thead>\n",
       "  <tbody>\n",
       "    <tr>\n",
       "      <th>0</th>\n",
       "      <td>335982</td>\n",
       "      <td>2007/08</td>\n",
       "      <td>2008-04-18</td>\n",
       "      <td>M Chinnaswamy Stadium</td>\n",
       "      <td>1</td>\n",
       "      <td>0.1</td>\n",
       "      <td>Kolkata Knight Riders</td>\n",
       "      <td>Royal Challengers Bangalore</td>\n",
       "      <td>SC Ganguly</td>\n",
       "      <td>BB McCullum</td>\n",
       "      <td>...</td>\n",
       "      <td>1</td>\n",
       "      <td>NaN</td>\n",
       "      <td>NaN</td>\n",
       "      <td>NaN</td>\n",
       "      <td>1.0</td>\n",
       "      <td>NaN</td>\n",
       "      <td>NaN</td>\n",
       "      <td>NaN</td>\n",
       "      <td>NaN</td>\n",
       "      <td>NaN</td>\n",
       "    </tr>\n",
       "    <tr>\n",
       "      <th>1</th>\n",
       "      <td>335982</td>\n",
       "      <td>2007/08</td>\n",
       "      <td>2008-04-18</td>\n",
       "      <td>M Chinnaswamy Stadium</td>\n",
       "      <td>1</td>\n",
       "      <td>0.2</td>\n",
       "      <td>Kolkata Knight Riders</td>\n",
       "      <td>Royal Challengers Bangalore</td>\n",
       "      <td>BB McCullum</td>\n",
       "      <td>SC Ganguly</td>\n",
       "      <td>...</td>\n",
       "      <td>0</td>\n",
       "      <td>NaN</td>\n",
       "      <td>NaN</td>\n",
       "      <td>NaN</td>\n",
       "      <td>NaN</td>\n",
       "      <td>NaN</td>\n",
       "      <td>NaN</td>\n",
       "      <td>NaN</td>\n",
       "      <td>NaN</td>\n",
       "      <td>NaN</td>\n",
       "    </tr>\n",
       "    <tr>\n",
       "      <th>2</th>\n",
       "      <td>335982</td>\n",
       "      <td>2007/08</td>\n",
       "      <td>2008-04-18</td>\n",
       "      <td>M Chinnaswamy Stadium</td>\n",
       "      <td>1</td>\n",
       "      <td>0.3</td>\n",
       "      <td>Kolkata Knight Riders</td>\n",
       "      <td>Royal Challengers Bangalore</td>\n",
       "      <td>BB McCullum</td>\n",
       "      <td>SC Ganguly</td>\n",
       "      <td>...</td>\n",
       "      <td>1</td>\n",
       "      <td>1.0</td>\n",
       "      <td>NaN</td>\n",
       "      <td>NaN</td>\n",
       "      <td>NaN</td>\n",
       "      <td>NaN</td>\n",
       "      <td>NaN</td>\n",
       "      <td>NaN</td>\n",
       "      <td>NaN</td>\n",
       "      <td>NaN</td>\n",
       "    </tr>\n",
       "    <tr>\n",
       "      <th>3</th>\n",
       "      <td>335982</td>\n",
       "      <td>2007/08</td>\n",
       "      <td>2008-04-18</td>\n",
       "      <td>M Chinnaswamy Stadium</td>\n",
       "      <td>1</td>\n",
       "      <td>0.4</td>\n",
       "      <td>Kolkata Knight Riders</td>\n",
       "      <td>Royal Challengers Bangalore</td>\n",
       "      <td>BB McCullum</td>\n",
       "      <td>SC Ganguly</td>\n",
       "      <td>...</td>\n",
       "      <td>0</td>\n",
       "      <td>NaN</td>\n",
       "      <td>NaN</td>\n",
       "      <td>NaN</td>\n",
       "      <td>NaN</td>\n",
       "      <td>NaN</td>\n",
       "      <td>NaN</td>\n",
       "      <td>NaN</td>\n",
       "      <td>NaN</td>\n",
       "      <td>NaN</td>\n",
       "    </tr>\n",
       "    <tr>\n",
       "      <th>4</th>\n",
       "      <td>335982</td>\n",
       "      <td>2007/08</td>\n",
       "      <td>2008-04-18</td>\n",
       "      <td>M Chinnaswamy Stadium</td>\n",
       "      <td>1</td>\n",
       "      <td>0.5</td>\n",
       "      <td>Kolkata Knight Riders</td>\n",
       "      <td>Royal Challengers Bangalore</td>\n",
       "      <td>BB McCullum</td>\n",
       "      <td>SC Ganguly</td>\n",
       "      <td>...</td>\n",
       "      <td>0</td>\n",
       "      <td>NaN</td>\n",
       "      <td>NaN</td>\n",
       "      <td>NaN</td>\n",
       "      <td>NaN</td>\n",
       "      <td>NaN</td>\n",
       "      <td>NaN</td>\n",
       "      <td>NaN</td>\n",
       "      <td>NaN</td>\n",
       "      <td>NaN</td>\n",
       "    </tr>\n",
       "  </tbody>\n",
       "</table>\n",
       "<p>5 rows × 22 columns</p>\n",
       "</div>"
      ],
      "text/plain": [
       "   match_id   season  start_date                  venue  innings  ball  \\\n",
       "0    335982  2007/08  2008-04-18  M Chinnaswamy Stadium        1   0.1   \n",
       "1    335982  2007/08  2008-04-18  M Chinnaswamy Stadium        1   0.2   \n",
       "2    335982  2007/08  2008-04-18  M Chinnaswamy Stadium        1   0.3   \n",
       "3    335982  2007/08  2008-04-18  M Chinnaswamy Stadium        1   0.4   \n",
       "4    335982  2007/08  2008-04-18  M Chinnaswamy Stadium        1   0.5   \n",
       "\n",
       "            batting_team                 bowling_team      striker  \\\n",
       "0  Kolkata Knight Riders  Royal Challengers Bangalore   SC Ganguly   \n",
       "1  Kolkata Knight Riders  Royal Challengers Bangalore  BB McCullum   \n",
       "2  Kolkata Knight Riders  Royal Challengers Bangalore  BB McCullum   \n",
       "3  Kolkata Knight Riders  Royal Challengers Bangalore  BB McCullum   \n",
       "4  Kolkata Knight Riders  Royal Challengers Bangalore  BB McCullum   \n",
       "\n",
       "   non_striker  ... extras  wides  noballs  byes  legbyes  penalty  \\\n",
       "0  BB McCullum  ...      1    NaN      NaN   NaN      1.0      NaN   \n",
       "1   SC Ganguly  ...      0    NaN      NaN   NaN      NaN      NaN   \n",
       "2   SC Ganguly  ...      1    1.0      NaN   NaN      NaN      NaN   \n",
       "3   SC Ganguly  ...      0    NaN      NaN   NaN      NaN      NaN   \n",
       "4   SC Ganguly  ...      0    NaN      NaN   NaN      NaN      NaN   \n",
       "\n",
       "   wicket_type  player_dismissed other_wicket_type other_player_dismissed  \n",
       "0          NaN               NaN               NaN                    NaN  \n",
       "1          NaN               NaN               NaN                    NaN  \n",
       "2          NaN               NaN               NaN                    NaN  \n",
       "3          NaN               NaN               NaN                    NaN  \n",
       "4          NaN               NaN               NaN                    NaN  \n",
       "\n",
       "[5 rows x 22 columns]"
      ]
     },
     "execution_count": 5,
     "metadata": {},
     "output_type": "execute_result"
    }
   ],
   "source": [
    "import pandas as pd\n",
    "import numpy as np\n",
    "import matplotlib.pyplot as plt \n",
    "from sklearn import linear_model\n",
    "import seaborn as sns\n",
    "df= pd.read_csv(r\"C:./Desktop/all_matches.csv\")\n",
    "df.head(5)"
   ]
  },
  {
   "cell_type": "code",
   "execution_count": 2,
   "id": "cc3ac14b",
   "metadata": {},
   "outputs": [
    {
     "data": {
      "text/plain": [
       "match_id                       0\n",
       "season                         0\n",
       "start_date                     0\n",
       "venue                          0\n",
       "innings                        0\n",
       "ball                           0\n",
       "batting_team                   0\n",
       "bowling_team                   0\n",
       "striker                        0\n",
       "non_striker                    0\n",
       "bowler                         0\n",
       "runs_off_bat                   0\n",
       "extras                         0\n",
       "wides                     201718\n",
       "noballs                   207196\n",
       "byes                      207495\n",
       "legbyes                   204754\n",
       "penalty                   208040\n",
       "wicket_type               197803\n",
       "player_dismissed          197803\n",
       "other_wicket_type         208042\n",
       "other_player_dismissed    208042\n",
       "dtype: int64"
      ]
     },
     "execution_count": 2,
     "metadata": {},
     "output_type": "execute_result"
    }
   ],
   "source": [
    "df.isnull().sum()"
   ]
  },
  {
   "cell_type": "code",
   "execution_count": 3,
   "id": "1d28f71e",
   "metadata": {},
   "outputs": [
    {
     "data": {
      "text/plain": [
       "(208042, 22)"
      ]
     },
     "execution_count": 3,
     "metadata": {},
     "output_type": "execute_result"
    }
   ],
   "source": [
    "df.shape"
   ]
  },
  {
   "cell_type": "code",
   "execution_count": 4,
   "id": "e7c37735",
   "metadata": {},
   "outputs": [
    {
     "data": {
      "text/plain": [
       "Index(['match_id', 'season', 'start_date', 'venue', 'innings', 'ball',\n",
       "       'batting_team', 'bowling_team', 'striker', 'non_striker', 'bowler',\n",
       "       'runs_off_bat', 'extras', 'wides', 'noballs', 'byes', 'legbyes',\n",
       "       'penalty', 'wicket_type', 'player_dismissed', 'other_wicket_type',\n",
       "       'other_player_dismissed'],\n",
       "      dtype='object')"
      ]
     },
     "execution_count": 4,
     "metadata": {},
     "output_type": "execute_result"
    }
   ],
   "source": [
    "df.columns"
   ]
  },
  {
   "cell_type": "code",
   "execution_count": 5,
   "id": "57fd75df",
   "metadata": {},
   "outputs": [
    {
     "name": "stdout",
     "output_type": "stream",
     "text": [
      "\n",
      " all teams :  ['Kolkata Knight Riders' 'Royal Challengers Bangalore'\n",
      " 'Chennai Super Kings' 'Kings XI Punjab' 'Rajasthan Royals'\n",
      " 'Delhi Daredevils' 'Deccan Chargers' 'Mumbai Indians'\n",
      " 'Kochi Tuskers Kerala' 'Pune Warriors' 'Sunrisers Hyderabad'\n",
      " 'Rising Pune Supergiants' 'Gujarat Lions' 'Rising Pune Supergiant'\n",
      " 'Delhi Capitals' 'Punjab Kings']\n"
     ]
    }
   ],
   "source": [
    "print('\\n all teams : ',df['batting_team'].unique())"
   ]
  },
  {
   "cell_type": "code",
   "execution_count": 6,
   "id": "1761ba5a",
   "metadata": {},
   "outputs": [
    {
     "data": {
      "text/plain": [
       "array([nan, 'caught', 'bowled', 'run out', 'lbw', 'retired hurt',\n",
       "       'stumped', 'caught and bowled', 'hit wicket',\n",
       "       'obstructing the field'], dtype=object)"
      ]
     },
     "execution_count": 6,
     "metadata": {},
     "output_type": "execute_result"
    }
   ],
   "source": [
    "df['wicket_type'].unique()"
   ]
  },
  {
   "cell_type": "code",
   "execution_count": 6,
   "id": "5c0cadc9",
   "metadata": {},
   "outputs": [
    {
     "data": {
      "text/html": [
       "<div>\n",
       "<style scoped>\n",
       "    .dataframe tbody tr th:only-of-type {\n",
       "        vertical-align: middle;\n",
       "    }\n",
       "\n",
       "    .dataframe tbody tr th {\n",
       "        vertical-align: top;\n",
       "    }\n",
       "\n",
       "    .dataframe thead th {\n",
       "        text-align: right;\n",
       "    }\n",
       "</style>\n",
       "<table border=\"1\" class=\"dataframe\">\n",
       "  <thead>\n",
       "    <tr style=\"text-align: right;\">\n",
       "      <th></th>\n",
       "      <th>Batsman</th>\n",
       "      <th>Runs</th>\n",
       "    </tr>\n",
       "  </thead>\n",
       "  <tbody>\n",
       "    <tr>\n",
       "      <th>527</th>\n",
       "      <td>V Kohli</td>\n",
       "      <td>6293</td>\n",
       "    </tr>\n",
       "    <tr>\n",
       "      <th>426</th>\n",
       "      <td>S Dhawan</td>\n",
       "      <td>5784</td>\n",
       "    </tr>\n",
       "    <tr>\n",
       "      <th>396</th>\n",
       "      <td>RG Sharma</td>\n",
       "      <td>5613</td>\n",
       "    </tr>\n",
       "    <tr>\n",
       "      <th>457</th>\n",
       "      <td>SK Raina</td>\n",
       "      <td>5536</td>\n",
       "    </tr>\n",
       "    <tr>\n",
       "      <th>120</th>\n",
       "      <td>DA Warner</td>\n",
       "      <td>5451</td>\n",
       "    </tr>\n",
       "    <tr>\n",
       "      <th>24</th>\n",
       "      <td>AB de Villiers</td>\n",
       "      <td>5181</td>\n",
       "    </tr>\n",
       "    <tr>\n",
       "      <th>100</th>\n",
       "      <td>CH Gayle</td>\n",
       "      <td>4997</td>\n",
       "    </tr>\n",
       "    <tr>\n",
       "      <th>316</th>\n",
       "      <td>MS Dhoni</td>\n",
       "      <td>4746</td>\n",
       "    </tr>\n",
       "    <tr>\n",
       "      <th>417</th>\n",
       "      <td>RV Uthappa</td>\n",
       "      <td>4724</td>\n",
       "    </tr>\n",
       "    <tr>\n",
       "      <th>160</th>\n",
       "      <td>G Gambhir</td>\n",
       "      <td>4217</td>\n",
       "    </tr>\n",
       "    <tr>\n",
       "      <th>236</th>\n",
       "      <td>KD Karthik</td>\n",
       "      <td>4047</td>\n",
       "    </tr>\n",
       "    <tr>\n",
       "      <th>43</th>\n",
       "      <td>AM Rahane</td>\n",
       "      <td>3941</td>\n",
       "    </tr>\n",
       "    <tr>\n",
       "      <th>56</th>\n",
       "      <td>AT Rayudu</td>\n",
       "      <td>3916</td>\n",
       "    </tr>\n",
       "    <tr>\n",
       "      <th>475</th>\n",
       "      <td>SR Watson</td>\n",
       "      <td>3880</td>\n",
       "    </tr>\n",
       "    <tr>\n",
       "      <th>305</th>\n",
       "      <td>MK Pandey</td>\n",
       "      <td>3569</td>\n",
       "    </tr>\n",
       "  </tbody>\n",
       "</table>\n",
       "</div>"
      ],
      "text/plain": [
       "            Batsman  Runs\n",
       "527         V Kohli  6293\n",
       "426        S Dhawan  5784\n",
       "396       RG Sharma  5613\n",
       "457        SK Raina  5536\n",
       "120       DA Warner  5451\n",
       "24   AB de Villiers  5181\n",
       "100        CH Gayle  4997\n",
       "316        MS Dhoni  4746\n",
       "417      RV Uthappa  4724\n",
       "160       G Gambhir  4217\n",
       "236      KD Karthik  4047\n",
       "43        AM Rahane  3941\n",
       "56        AT Rayudu  3916\n",
       "475       SR Watson  3880\n",
       "305       MK Pandey  3569"
      ]
     },
     "execution_count": 6,
     "metadata": {},
     "output_type": "execute_result"
    }
   ],
   "source": [
    "runs = df.groupby(['striker'])['runs_off_bat'].sum().reset_index()\n",
    "runs.columns=['Batsman','Runs']\n",
    "y = runs.sort_values(by='Runs',ascending=False ).head(15)\n",
    "y"
   ]
  },
  {
   "cell_type": "code",
   "execution_count": 7,
   "id": "de9405d8",
   "metadata": {},
   "outputs": [
    {
     "data": {
      "image/png": "[encoded data removed]",
      "text/plain": [
       "<Figure size 432x288 with 1 Axes>"
      ]
     },
     "metadata": {
      "needs_background": "light"
     },
     "output_type": "display_data"
    }
   ],
   "source": [
    "import matplotlib.pyplot as plt\n",
    "import seaborn as sns\n",
    "ax = plt.axes()\n",
    "sns.barplot(x=y['Batsman'],y=y['Runs'],palette='rocket',saturation=1)\n",
    "plt.xticks(rotation=90,fontsize=10)\n",
    "plt.yticks(fontsize=10)\n",
    "plt.xlabel('\\n Player')\n",
    "plt.ylabel('Total Runs')\n",
    "plt.title('Top Runs scorers')\n",
    "plt.savefig('kk.png')"
   ]
  },
  {
   "cell_type": "code",
   "execution_count": 9,
   "id": "4d1fff90",
   "metadata": {},
   "outputs": [
    {
     "data": {
      "text/html": [
       "<div>\n",
       "<style scoped>\n",
       "    .dataframe tbody tr th:only-of-type {\n",
       "        vertical-align: middle;\n",
       "    }\n",
       "\n",
       "    .dataframe tbody tr th {\n",
       "        vertical-align: top;\n",
       "    }\n",
       "\n",
       "    .dataframe thead th {\n",
       "        text-align: right;\n",
       "    }\n",
       "</style>\n",
       "<table border=\"1\" class=\"dataframe\">\n",
       "  <thead>\n",
       "    <tr style=\"text-align: right;\">\n",
       "      <th></th>\n",
       "      <th>match_id</th>\n",
       "      <th>season</th>\n",
       "      <th>start_date</th>\n",
       "      <th>venue</th>\n",
       "      <th>innings</th>\n",
       "      <th>ball</th>\n",
       "      <th>batting_team</th>\n",
       "      <th>bowling_team</th>\n",
       "      <th>striker</th>\n",
       "      <th>non_striker</th>\n",
       "      <th>...</th>\n",
       "      <th>extras</th>\n",
       "      <th>wides</th>\n",
       "      <th>noballs</th>\n",
       "      <th>byes</th>\n",
       "      <th>legbyes</th>\n",
       "      <th>penalty</th>\n",
       "      <th>wicket_type</th>\n",
       "      <th>player_dismissed</th>\n",
       "      <th>other_wicket_type</th>\n",
       "      <th>other_player_dismissed</th>\n",
       "    </tr>\n",
       "  </thead>\n",
       "  <tbody>\n",
       "    <tr>\n",
       "      <th>132</th>\n",
       "      <td>335982</td>\n",
       "      <td>2007/08</td>\n",
       "      <td>2008-04-18</td>\n",
       "      <td>M Chinnaswamy Stadium</td>\n",
       "      <td>2</td>\n",
       "      <td>1.2</td>\n",
       "      <td>Royal Challengers Bangalore</td>\n",
       "      <td>Kolkata Knight Riders</td>\n",
       "      <td>V Kohli</td>\n",
       "      <td>W Jaffer</td>\n",
       "      <td>...</td>\n",
       "      <td>0</td>\n",
       "      <td>NaN</td>\n",
       "      <td>NaN</td>\n",
       "      <td>NaN</td>\n",
       "      <td>NaN</td>\n",
       "      <td>NaN</td>\n",
       "      <td>NaN</td>\n",
       "      <td>NaN</td>\n",
       "      <td>NaN</td>\n",
       "      <td>NaN</td>\n",
       "    </tr>\n",
       "    <tr>\n",
       "      <th>133</th>\n",
       "      <td>335982</td>\n",
       "      <td>2007/08</td>\n",
       "      <td>2008-04-18</td>\n",
       "      <td>M Chinnaswamy Stadium</td>\n",
       "      <td>2</td>\n",
       "      <td>1.3</td>\n",
       "      <td>Royal Challengers Bangalore</td>\n",
       "      <td>Kolkata Knight Riders</td>\n",
       "      <td>V Kohli</td>\n",
       "      <td>W Jaffer</td>\n",
       "      <td>...</td>\n",
       "      <td>4</td>\n",
       "      <td>NaN</td>\n",
       "      <td>NaN</td>\n",
       "      <td>NaN</td>\n",
       "      <td>4.0</td>\n",
       "      <td>NaN</td>\n",
       "      <td>NaN</td>\n",
       "      <td>NaN</td>\n",
       "      <td>NaN</td>\n",
       "      <td>NaN</td>\n",
       "    </tr>\n",
       "    <tr>\n",
       "      <th>134</th>\n",
       "      <td>335982</td>\n",
       "      <td>2007/08</td>\n",
       "      <td>2008-04-18</td>\n",
       "      <td>M Chinnaswamy Stadium</td>\n",
       "      <td>2</td>\n",
       "      <td>1.4</td>\n",
       "      <td>Royal Challengers Bangalore</td>\n",
       "      <td>Kolkata Knight Riders</td>\n",
       "      <td>V Kohli</td>\n",
       "      <td>W Jaffer</td>\n",
       "      <td>...</td>\n",
       "      <td>0</td>\n",
       "      <td>NaN</td>\n",
       "      <td>NaN</td>\n",
       "      <td>NaN</td>\n",
       "      <td>NaN</td>\n",
       "      <td>NaN</td>\n",
       "      <td>NaN</td>\n",
       "      <td>NaN</td>\n",
       "      <td>NaN</td>\n",
       "      <td>NaN</td>\n",
       "    </tr>\n",
       "    <tr>\n",
       "      <th>137</th>\n",
       "      <td>335982</td>\n",
       "      <td>2007/08</td>\n",
       "      <td>2008-04-18</td>\n",
       "      <td>M Chinnaswamy Stadium</td>\n",
       "      <td>2</td>\n",
       "      <td>2.1</td>\n",
       "      <td>Royal Challengers Bangalore</td>\n",
       "      <td>Kolkata Knight Riders</td>\n",
       "      <td>V Kohli</td>\n",
       "      <td>W Jaffer</td>\n",
       "      <td>...</td>\n",
       "      <td>0</td>\n",
       "      <td>NaN</td>\n",
       "      <td>NaN</td>\n",
       "      <td>NaN</td>\n",
       "      <td>NaN</td>\n",
       "      <td>NaN</td>\n",
       "      <td>NaN</td>\n",
       "      <td>NaN</td>\n",
       "      <td>NaN</td>\n",
       "      <td>NaN</td>\n",
       "    </tr>\n",
       "    <tr>\n",
       "      <th>138</th>\n",
       "      <td>335982</td>\n",
       "      <td>2007/08</td>\n",
       "      <td>2008-04-18</td>\n",
       "      <td>M Chinnaswamy Stadium</td>\n",
       "      <td>2</td>\n",
       "      <td>2.2</td>\n",
       "      <td>Royal Challengers Bangalore</td>\n",
       "      <td>Kolkata Knight Riders</td>\n",
       "      <td>V Kohli</td>\n",
       "      <td>W Jaffer</td>\n",
       "      <td>...</td>\n",
       "      <td>0</td>\n",
       "      <td>NaN</td>\n",
       "      <td>NaN</td>\n",
       "      <td>NaN</td>\n",
       "      <td>NaN</td>\n",
       "      <td>NaN</td>\n",
       "      <td>bowled</td>\n",
       "      <td>V Kohli</td>\n",
       "      <td>NaN</td>\n",
       "      <td>NaN</td>\n",
       "    </tr>\n",
       "  </tbody>\n",
       "</table>\n",
       "<p>5 rows × 22 columns</p>\n",
       "</div>"
      ],
      "text/plain": [
       "     match_id   season  start_date                  venue  innings  ball  \\\n",
       "132    335982  2007/08  2008-04-18  M Chinnaswamy Stadium        2   1.2   \n",
       "133    335982  2007/08  2008-04-18  M Chinnaswamy Stadium        2   1.3   \n",
       "134    335982  2007/08  2008-04-18  M Chinnaswamy Stadium        2   1.4   \n",
       "137    335982  2007/08  2008-04-18  M Chinnaswamy Stadium        2   2.1   \n",
       "138    335982  2007/08  2008-04-18  M Chinnaswamy Stadium        2   2.2   \n",
       "\n",
       "                    batting_team           bowling_team  striker non_striker  \\\n",
       "132  Royal Challengers Bangalore  Kolkata Knight Riders  V Kohli    W Jaffer   \n",
       "133  Royal Challengers Bangalore  Kolkata Knight Riders  V Kohli    W Jaffer   \n",
       "134  Royal Challengers Bangalore  Kolkata Knight Riders  V Kohli    W Jaffer   \n",
       "137  Royal Challengers Bangalore  Kolkata Knight Riders  V Kohli    W Jaffer   \n",
       "138  Royal Challengers Bangalore  Kolkata Knight Riders  V Kohli    W Jaffer   \n",
       "\n",
       "     ... extras  wides  noballs  byes  legbyes  penalty  wicket_type  \\\n",
       "132  ...      0    NaN      NaN   NaN      NaN      NaN          NaN   \n",
       "133  ...      4    NaN      NaN   NaN      4.0      NaN          NaN   \n",
       "134  ...      0    NaN      NaN   NaN      NaN      NaN          NaN   \n",
       "137  ...      0    NaN      NaN   NaN      NaN      NaN          NaN   \n",
       "138  ...      0    NaN      NaN   NaN      NaN      NaN       bowled   \n",
       "\n",
       "     player_dismissed other_wicket_type other_player_dismissed  \n",
       "132               NaN               NaN                    NaN  \n",
       "133               NaN               NaN                    NaN  \n",
       "134               NaN               NaN                    NaN  \n",
       "137               NaN               NaN                    NaN  \n",
       "138           V Kohli               NaN                    NaN  \n",
       "\n",
       "[5 rows x 22 columns]"
      ]
     },
     "execution_count": 9,
     "metadata": {},
     "output_type": "execute_result"
    }
   ],
   "source": [
    "player=(df['striker']=='V Kohli')\n",
    "df_kohli=df[player]\n",
    "df_kohli.head()\n"
   ]
  },
  {
   "cell_type": "code",
   "execution_count": 10,
   "id": "c86f9ac5",
   "metadata": {},
   "outputs": [
    {
     "data": {
      "image/png": "[encoded data removed]",
      "text/plain": [
       "<Figure size 1008x576 with 1 Axes>"
      ]
     },
     "metadata": {},
     "output_type": "display_data"
    },
    {
     "data": {
      "text/plain": [
       "<Figure size 432x288 with 0 Axes>"
      ]
     },
     "metadata": {},
     "output_type": "display_data"
    }
   ],
   "source": [
    "df_kohli['wicket_type'].value_counts().plot.pie(autopct='%1.1f%%',figsize=(14,8),shadow=True,rotatelabels=True)\n",
    "plt.title('wicket type')\n",
    "plt.show()\n",
    "plt.savefig('kk1.png')"
   ]
  },
  {
   "cell_type": "code",
   "execution_count": 14,
   "id": "247cb09b",
   "metadata": {},
   "outputs": [
    {
     "name": "stdout",
     "output_type": "stream",
     "text": [
      "Runs scored from 1's: 2066\n",
      "Runs scored from 2's: 720\n",
      "Runs scored from 3's: 45\n",
      "Runs scored from 4's: 2196\n",
      "Runs scored from 6's: 1266\n"
     ]
    }
   ],
   "source": [
    "def count(df_kohli,runs):\n",
    "    return len(df_kohli[df_kohli[ 'runs_off_bat']==runs])*runs\n",
    "print(\"Runs scored from 1's:\",count(df_kohli,1))\n",
    "print(\"Runs scored from 2's:\",count(df_kohli,2))\n",
    "print(\"Runs scored from 3's:\",count(df_kohli,3))\n",
    "print(\"Runs scored from 4's:\",count(df_kohli,4))\n",
    "print(\"Runs scored from 6's:\",count(df_kohli,6))"
   ]
  },
  {
   "cell_type": "code",
   "execution_count": 15,
   "id": "dbfa5953",
   "metadata": {},
   "outputs": [
    {
     "data": {
      "text/html": [
       "<div>\n",
       "<style scoped>\n",
       "    .dataframe tbody tr th:only-of-type {\n",
       "        vertical-align: middle;\n",
       "    }\n",
       "\n",
       "    .dataframe tbody tr th {\n",
       "        vertical-align: top;\n",
       "    }\n",
       "\n",
       "    .dataframe thead th {\n",
       "        text-align: right;\n",
       "    }\n",
       "</style>\n",
       "<table border=\"1\" class=\"dataframe\">\n",
       "  <thead>\n",
       "    <tr style=\"text-align: right;\">\n",
       "      <th></th>\n",
       "      <th>match_id</th>\n",
       "      <th>season</th>\n",
       "      <th>start_date</th>\n",
       "      <th>venue</th>\n",
       "      <th>innings</th>\n",
       "      <th>ball</th>\n",
       "      <th>batting_team</th>\n",
       "      <th>bowling_team</th>\n",
       "      <th>striker</th>\n",
       "      <th>non_striker</th>\n",
       "      <th>...</th>\n",
       "      <th>extras</th>\n",
       "      <th>wides</th>\n",
       "      <th>noballs</th>\n",
       "      <th>byes</th>\n",
       "      <th>legbyes</th>\n",
       "      <th>penalty</th>\n",
       "      <th>wicket_type</th>\n",
       "      <th>player_dismissed</th>\n",
       "      <th>other_wicket_type</th>\n",
       "      <th>other_player_dismissed</th>\n",
       "    </tr>\n",
       "  </thead>\n",
       "  <tbody>\n",
       "    <tr>\n",
       "      <th>124</th>\n",
       "      <td>335982</td>\n",
       "      <td>2007/08</td>\n",
       "      <td>2008-04-18</td>\n",
       "      <td>M Chinnaswamy Stadium</td>\n",
       "      <td>2</td>\n",
       "      <td>0.1</td>\n",
       "      <td>Royal Challengers Bangalore</td>\n",
       "      <td>Kolkata Knight Riders</td>\n",
       "      <td>R Dravid</td>\n",
       "      <td>W Jaffer</td>\n",
       "      <td>...</td>\n",
       "      <td>0</td>\n",
       "      <td>NaN</td>\n",
       "      <td>NaN</td>\n",
       "      <td>NaN</td>\n",
       "      <td>NaN</td>\n",
       "      <td>NaN</td>\n",
       "      <td>NaN</td>\n",
       "      <td>NaN</td>\n",
       "      <td>NaN</td>\n",
       "      <td>NaN</td>\n",
       "    </tr>\n",
       "    <tr>\n",
       "      <th>125</th>\n",
       "      <td>335982</td>\n",
       "      <td>2007/08</td>\n",
       "      <td>2008-04-18</td>\n",
       "      <td>M Chinnaswamy Stadium</td>\n",
       "      <td>2</td>\n",
       "      <td>0.2</td>\n",
       "      <td>Royal Challengers Bangalore</td>\n",
       "      <td>Kolkata Knight Riders</td>\n",
       "      <td>W Jaffer</td>\n",
       "      <td>R Dravid</td>\n",
       "      <td>...</td>\n",
       "      <td>1</td>\n",
       "      <td>1.0</td>\n",
       "      <td>NaN</td>\n",
       "      <td>NaN</td>\n",
       "      <td>NaN</td>\n",
       "      <td>NaN</td>\n",
       "      <td>NaN</td>\n",
       "      <td>NaN</td>\n",
       "      <td>NaN</td>\n",
       "      <td>NaN</td>\n",
       "    </tr>\n",
       "    <tr>\n",
       "      <th>126</th>\n",
       "      <td>335982</td>\n",
       "      <td>2007/08</td>\n",
       "      <td>2008-04-18</td>\n",
       "      <td>M Chinnaswamy Stadium</td>\n",
       "      <td>2</td>\n",
       "      <td>0.3</td>\n",
       "      <td>Royal Challengers Bangalore</td>\n",
       "      <td>Kolkata Knight Riders</td>\n",
       "      <td>W Jaffer</td>\n",
       "      <td>R Dravid</td>\n",
       "      <td>...</td>\n",
       "      <td>0</td>\n",
       "      <td>NaN</td>\n",
       "      <td>NaN</td>\n",
       "      <td>NaN</td>\n",
       "      <td>NaN</td>\n",
       "      <td>NaN</td>\n",
       "      <td>NaN</td>\n",
       "      <td>NaN</td>\n",
       "      <td>NaN</td>\n",
       "      <td>NaN</td>\n",
       "    </tr>\n",
       "    <tr>\n",
       "      <th>127</th>\n",
       "      <td>335982</td>\n",
       "      <td>2007/08</td>\n",
       "      <td>2008-04-18</td>\n",
       "      <td>M Chinnaswamy Stadium</td>\n",
       "      <td>2</td>\n",
       "      <td>0.4</td>\n",
       "      <td>Royal Challengers Bangalore</td>\n",
       "      <td>Kolkata Knight Riders</td>\n",
       "      <td>W Jaffer</td>\n",
       "      <td>R Dravid</td>\n",
       "      <td>...</td>\n",
       "      <td>0</td>\n",
       "      <td>NaN</td>\n",
       "      <td>NaN</td>\n",
       "      <td>NaN</td>\n",
       "      <td>NaN</td>\n",
       "      <td>NaN</td>\n",
       "      <td>NaN</td>\n",
       "      <td>NaN</td>\n",
       "      <td>NaN</td>\n",
       "      <td>NaN</td>\n",
       "    </tr>\n",
       "    <tr>\n",
       "      <th>128</th>\n",
       "      <td>335982</td>\n",
       "      <td>2007/08</td>\n",
       "      <td>2008-04-18</td>\n",
       "      <td>M Chinnaswamy Stadium</td>\n",
       "      <td>2</td>\n",
       "      <td>0.5</td>\n",
       "      <td>Royal Challengers Bangalore</td>\n",
       "      <td>Kolkata Knight Riders</td>\n",
       "      <td>R Dravid</td>\n",
       "      <td>W Jaffer</td>\n",
       "      <td>...</td>\n",
       "      <td>0</td>\n",
       "      <td>NaN</td>\n",
       "      <td>NaN</td>\n",
       "      <td>NaN</td>\n",
       "      <td>NaN</td>\n",
       "      <td>NaN</td>\n",
       "      <td>NaN</td>\n",
       "      <td>NaN</td>\n",
       "      <td>NaN</td>\n",
       "      <td>NaN</td>\n",
       "    </tr>\n",
       "  </tbody>\n",
       "</table>\n",
       "<p>5 rows × 22 columns</p>\n",
       "</div>"
      ],
      "text/plain": [
       "     match_id   season  start_date                  venue  innings  ball  \\\n",
       "124    335982  2007/08  2008-04-18  M Chinnaswamy Stadium        2   0.1   \n",
       "125    335982  2007/08  2008-04-18  M Chinnaswamy Stadium        2   0.2   \n",
       "126    335982  2007/08  2008-04-18  M Chinnaswamy Stadium        2   0.3   \n",
       "127    335982  2007/08  2008-04-18  M Chinnaswamy Stadium        2   0.4   \n",
       "128    335982  2007/08  2008-04-18  M Chinnaswamy Stadium        2   0.5   \n",
       "\n",
       "                    batting_team           bowling_team   striker non_striker  \\\n",
       "124  Royal Challengers Bangalore  Kolkata Knight Riders  R Dravid    W Jaffer   \n",
       "125  Royal Challengers Bangalore  Kolkata Knight Riders  W Jaffer    R Dravid   \n",
       "126  Royal Challengers Bangalore  Kolkata Knight Riders  W Jaffer    R Dravid   \n",
       "127  Royal Challengers Bangalore  Kolkata Knight Riders  W Jaffer    R Dravid   \n",
       "128  Royal Challengers Bangalore  Kolkata Knight Riders  R Dravid    W Jaffer   \n",
       "\n",
       "     ... extras  wides  noballs  byes  legbyes  penalty  wicket_type  \\\n",
       "124  ...      0    NaN      NaN   NaN      NaN      NaN          NaN   \n",
       "125  ...      1    1.0      NaN   NaN      NaN      NaN          NaN   \n",
       "126  ...      0    NaN      NaN   NaN      NaN      NaN          NaN   \n",
       "127  ...      0    NaN      NaN   NaN      NaN      NaN          NaN   \n",
       "128  ...      0    NaN      NaN   NaN      NaN      NaN          NaN   \n",
       "\n",
       "     player_dismissed other_wicket_type other_player_dismissed  \n",
       "124               NaN               NaN                    NaN  \n",
       "125               NaN               NaN                    NaN  \n",
       "126               NaN               NaN                    NaN  \n",
       "127               NaN               NaN                    NaN  \n",
       "128               NaN               NaN                    NaN  \n",
       "\n",
       "[5 rows x 22 columns]"
      ]
     },
     "execution_count": 15,
     "metadata": {},
     "output_type": "execute_result"
    }
   ],
   "source": [
    "team=(df['batting_team']=='Royal Challengers Bangalore')\n",
    "df_rcb=df[team]\n",
    "df_rcb.head()"
   ]
  },
  {
   "cell_type": "code",
   "execution_count": 17,
   "id": "0927a9d8",
   "metadata": {},
   "outputs": [
    {
     "data": {
      "image/png": "[encoded data removed]",
      "text/plain": [
       "<Figure size 1152x720 with 1 Axes>"
      ]
     },
     "metadata": {},
     "output_type": "display_data"
    }
   ],
   "source": [
    "df_rcb['wicket_type'].value_counts().plot.pie(autopct='%1.1f%%',figsize=(16,10),shadow=True,rotatelabels=True)\n",
    "plt.title('wicket type')\n",
    "plt.show()"
   ]
  },
  {
   "cell_type": "code",
   "execution_count": 18,
   "id": "008b30ff",
   "metadata": {},
   "outputs": [
    {
     "data": {
      "text/plain": [
       "<AxesSubplot:xlabel='Teams'>"
      ]
     },
     "execution_count": 18,
     "metadata": {},
     "output_type": "execute_result"
    },
    {
     "data": {
      "image/png": "[encoded data removed]",
      "text/plain": [
       "<Figure size 432x288 with 1 Axes>"
      ]
     },
     "metadata": {
      "needs_background": "light"
     },
     "output_type": "display_data"
    }
   ],
   "source": [
    "bowling_wicket=df[df['bowling_team']=='Royal Challengers Bangalore']['wicket_type'].value_counts().reset_index()\n",
    "bowling_wicket.style.hide_index()\n",
    "bowling_wicket.rename(columns={'index':'Teams','bowling_team':'run out '},inplace=True)\n",
    "s2 =bowling_wicket.head(25)\n",
    "s2.plot.bar(x=\"Teams\")"
   ]
  },
  {
   "cell_type": "code",
   "execution_count": 21,
   "id": "1da60c64",
   "metadata": {},
   "outputs": [
    {
     "data": {
      "text/plain": [
       "<AxesSubplot:xlabel='Teams'>"
      ]
     },
     "execution_count": 21,
     "metadata": {},
     "output_type": "execute_result"
    },
    {
     "data": {
      "image/png": "[encoded data removed]",
      "text/plain": [
       "<Figure size 432x288 with 1 Axes>"
      ]
     },
     "metadata": {
      "needs_background": "light"
     },
     "output_type": "display_data"
    }
   ],
   "source": [
    "batting_wicket=df[df['batting_team']=='Royal Challengers Bangalore']['wicket_type'].value_counts().reset_index()\n",
    "batting_wicket.style.hide_index()\n",
    "batting_wicket.rename(columns={'index':'Teams','batting_team':'run out '},inplace=True)\n",
    "s2 =batting_wicket.head(25)\n",
    "s2.plot.bar(x=\"Teams\")"
   ]
  },
  {
   "cell_type": "code",
   "execution_count": 22,
   "id": "796468ee",
   "metadata": {},
   "outputs": [
    {
     "data": {
      "text/html": [
       "<div>\n",
       "<style scoped>\n",
       "    .dataframe tbody tr th:only-of-type {\n",
       "        vertical-align: middle;\n",
       "    }\n",
       "\n",
       "    .dataframe tbody tr th {\n",
       "        vertical-align: top;\n",
       "    }\n",
       "\n",
       "    .dataframe thead th {\n",
       "        text-align: right;\n",
       "    }\n",
       "</style>\n",
       "<table border=\"1\" class=\"dataframe\">\n",
       "  <thead>\n",
       "    <tr style=\"text-align: right;\">\n",
       "      <th></th>\n",
       "      <th>Batting team</th>\n",
       "      <th>Runs</th>\n",
       "    </tr>\n",
       "  </thead>\n",
       "  <tbody>\n",
       "    <tr>\n",
       "      <th>8</th>\n",
       "      <td>Mumbai Indians</td>\n",
       "      <td>32603</td>\n",
       "    </tr>\n",
       "    <tr>\n",
       "      <th>14</th>\n",
       "      <td>Royal Challengers Bangalore</td>\n",
       "      <td>30963</td>\n",
       "    </tr>\n",
       "    <tr>\n",
       "      <th>7</th>\n",
       "      <td>Kolkata Knight Riders</td>\n",
       "      <td>30221</td>\n",
       "    </tr>\n",
       "    <tr>\n",
       "      <th>0</th>\n",
       "      <td>Chennai Super Kings</td>\n",
       "      <td>29569</td>\n",
       "    </tr>\n",
       "    <tr>\n",
       "      <th>5</th>\n",
       "      <td>Kings XI Punjab</td>\n",
       "      <td>28541</td>\n",
       "    </tr>\n",
       "    <tr>\n",
       "      <th>11</th>\n",
       "      <td>Rajasthan Royals</td>\n",
       "      <td>25447</td>\n",
       "    </tr>\n",
       "    <tr>\n",
       "      <th>3</th>\n",
       "      <td>Delhi Daredevils</td>\n",
       "      <td>23022</td>\n",
       "    </tr>\n",
       "    <tr>\n",
       "      <th>15</th>\n",
       "      <td>Sunrisers Hyderabad</td>\n",
       "      <td>20383</td>\n",
       "    </tr>\n",
       "    <tr>\n",
       "      <th>1</th>\n",
       "      <td>Deccan Chargers</td>\n",
       "      <td>10885</td>\n",
       "    </tr>\n",
       "    <tr>\n",
       "      <th>2</th>\n",
       "      <td>Delhi Capitals</td>\n",
       "      <td>7473</td>\n",
       "    </tr>\n",
       "    <tr>\n",
       "      <th>9</th>\n",
       "      <td>Pune Warriors</td>\n",
       "      <td>6040</td>\n",
       "    </tr>\n",
       "    <tr>\n",
       "      <th>4</th>\n",
       "      <td>Gujarat Lions</td>\n",
       "      <td>4629</td>\n",
       "    </tr>\n",
       "    <tr>\n",
       "      <th>12</th>\n",
       "      <td>Rising Pune Supergiant</td>\n",
       "      <td>2370</td>\n",
       "    </tr>\n",
       "    <tr>\n",
       "      <th>10</th>\n",
       "      <td>Punjab Kings</td>\n",
       "      <td>2061</td>\n",
       "    </tr>\n",
       "    <tr>\n",
       "      <th>13</th>\n",
       "      <td>Rising Pune Supergiants</td>\n",
       "      <td>1962</td>\n",
       "    </tr>\n",
       "    <tr>\n",
       "      <th>6</th>\n",
       "      <td>Kochi Tuskers Kerala</td>\n",
       "      <td>1758</td>\n",
       "    </tr>\n",
       "  </tbody>\n",
       "</table>\n",
       "</div>"
      ],
      "text/plain": [
       "                   Batting team   Runs\n",
       "8                Mumbai Indians  32603\n",
       "14  Royal Challengers Bangalore  30963\n",
       "7         Kolkata Knight Riders  30221\n",
       "0           Chennai Super Kings  29569\n",
       "5               Kings XI Punjab  28541\n",
       "11             Rajasthan Royals  25447\n",
       "3              Delhi Daredevils  23022\n",
       "15          Sunrisers Hyderabad  20383\n",
       "1               Deccan Chargers  10885\n",
       "2                Delhi Capitals   7473\n",
       "9                 Pune Warriors   6040\n",
       "4                 Gujarat Lions   4629\n",
       "12       Rising Pune Supergiant   2370\n",
       "10                 Punjab Kings   2061\n",
       "13      Rising Pune Supergiants   1962\n",
       "6          Kochi Tuskers Kerala   1758"
      ]
     },
     "execution_count": 22,
     "metadata": {},
     "output_type": "execute_result"
    }
   ],
   "source": [
    "runs1 = df.groupby(['batting_team'])['runs_off_bat'].sum().reset_index()\n",
    "runs1.columns=['Batting team','Runs']\n",
    "y = runs1.sort_values(by='Runs',ascending=False ).head(20)\n",
    "y"
   ]
  },
  {
   "cell_type": "code",
   "execution_count": 26,
   "id": "8bdd0c56",
   "metadata": {},
   "outputs": [
    {
     "data": {
      "text/plain": [
       "Text(0.5, 1.0, 'Total Runs scored by all Teams')"
      ]
     },
     "execution_count": 26,
     "metadata": {},
     "output_type": "execute_result"
    },
    {
     "data": {
      "image/png": "[encoded data removed]",
      "text/plain": [
       "<Figure size 432x288 with 1 Axes>"
      ]
     },
     "metadata": {
      "needs_background": "light"
     },
     "output_type": "display_data"
    }
   ],
   "source": [
    "ax = plt.axes()\n",
    "sns.barplot(x=y['Batting team'],y=y['Runs'],palette='rocket',saturation=1)\n",
    "plt.xticks(rotation=90,fontsize=10)\n",
    "plt.yticks(fontsize=10)\n",
    "plt.xlabel('\\n All teams')\n",
    "plt.ylabel('Total Runs')\n",
    "plt.title('Total Runs scored by all Teams')"
   ]
  },
  {
   "cell_type": "code",
   "execution_count": 25,
   "id": "28f05a25",
   "metadata": {},
   "outputs": [
    {
     "data": {
      "text/plain": [
       "<AxesSubplot:xlabel='Rcb Batsman'>"
      ]
     },
     "execution_count": 25,
     "metadata": {},
     "output_type": "execute_result"
    },
    {
     "data": {
      "image/png": "[encoded data removed]",
      "text/plain": [
       "<Figure size 432x288 with 1 Axes>"
      ]
     },
     "metadata": {
      "needs_background": "light"
     },
     "output_type": "display_data"
    }
   ],
   "source": [
    "runs2 = df_rcb.groupby(['striker'])['runs_off_bat'].sum().reset_index()\n",
    "runs2.columns=['Rcb Batsman','Runs']\n",
    "y3 = runs2.sort_values(by='Runs',ascending=False ).head(20)\n",
    "y3.plot.bar('Rcb Batsman','Runs')"
   ]
  },
  {
   "cell_type": "code",
   "execution_count": null,
   "id": "14971793",
   "metadata": {},
   "outputs": [],
   "source": [
    "team=(df['batting_team']=='Royal Challengers Bangalore')\n",
    "df_rcb=df[team]\n",
    "df_rcb.head()"
   ]
  },
  {
   "cell_type": "code",
   "execution_count": 40,
   "id": "07271784",
   "metadata": {},
   "outputs": [
    {
     "data": {
      "text/html": [
       "<div>\n",
       "<style scoped>\n",
       "    .dataframe tbody tr th:only-of-type {\n",
       "        vertical-align: middle;\n",
       "    }\n",
       "\n",
       "    .dataframe tbody tr th {\n",
       "        vertical-align: top;\n",
       "    }\n",
       "\n",
       "    .dataframe thead th {\n",
       "        text-align: right;\n",
       "    }\n",
       "</style>\n",
       "<table border=\"1\" class=\"dataframe\">\n",
       "  <thead>\n",
       "    <tr style=\"text-align: right;\">\n",
       "      <th></th>\n",
       "      <th>season</th>\n",
       "      <th>id</th>\n",
       "      <th>name</th>\n",
       "      <th>short_name</th>\n",
       "      <th>description</th>\n",
       "      <th>home_team</th>\n",
       "      <th>away_team</th>\n",
       "      <th>toss_won</th>\n",
       "      <th>decision</th>\n",
       "      <th>1st_inning_score</th>\n",
       "      <th>...</th>\n",
       "      <th>home_playx1</th>\n",
       "      <th>away_playx1</th>\n",
       "      <th>away_key_batsman</th>\n",
       "      <th>away_key_bowler</th>\n",
       "      <th>match_days</th>\n",
       "      <th>umpire1</th>\n",
       "      <th>umpire2</th>\n",
       "      <th>tv_umpire</th>\n",
       "      <th>referee</th>\n",
       "      <th>reserve_umpire</th>\n",
       "    </tr>\n",
       "  </thead>\n",
       "  <tbody>\n",
       "    <tr>\n",
       "      <th>0</th>\n",
       "      <td>2020</td>\n",
       "      <td>1216492</td>\n",
       "      <td>Mumbai Indians v Chennai Super Kings</td>\n",
       "      <td>Mumbai Indians v Chennai Super Kings</td>\n",
       "      <td>1st Match (N), Indian PreMumbai Indianser Leag...</td>\n",
       "      <td>Mumbai Indians</td>\n",
       "      <td>Chennai Super Kings</td>\n",
       "      <td>Chennai Super Kings</td>\n",
       "      <td>BOWL FIRST</td>\n",
       "      <td>162/9</td>\n",
       "      <td>...</td>\n",
       "      <td>Rohit Sharma (BT),Quinton de Kock (WK),Suryaku...</td>\n",
       "      <td>Murali Vijay (BT),Shane Watson (AR),Faf du Ple...</td>\n",
       "      <td>Ambati Rayudu,Faf du Plessis</td>\n",
       "      <td>Lungi Ngidi,Deepak Chahar</td>\n",
       "      <td>19 September 2020 - night match (20-over match)</td>\n",
       "      <td>Chris Gaffaney</td>\n",
       "      <td>Virender Sharma</td>\n",
       "      <td>Sundaram Ravi</td>\n",
       "      <td>Manu Nayyar</td>\n",
       "      <td>Ulhas Gandhe</td>\n",
       "    </tr>\n",
       "    <tr>\n",
       "      <th>1</th>\n",
       "      <td>2020</td>\n",
       "      <td>1216493</td>\n",
       "      <td>Delhi Capitals v Kings XI Punjab</td>\n",
       "      <td>Delhi Capitals v Kings XI Punjab</td>\n",
       "      <td>2nd Match (N), Indian PreMumbai Indianser Leag...</td>\n",
       "      <td>Delhi Capitals</td>\n",
       "      <td>Kings XI Punjab</td>\n",
       "      <td>Kings XI Punjab</td>\n",
       "      <td>BOWL FIRST</td>\n",
       "      <td>157/8</td>\n",
       "      <td>...</td>\n",
       "      <td>Prithvi Shaw (BT),Shikhar Dhawan (BT),Shimron ...</td>\n",
       "      <td>KL Rahul (WK),Mayank Agarwal (BT),Karun Nair (...</td>\n",
       "      <td>Mayank Agarwal,KL Rahul</td>\n",
       "      <td>Mohammed ShaMumbai Indians,Sheldon Cottrell</td>\n",
       "      <td>20 September 2020 - night match (20-over match)</td>\n",
       "      <td>Anil Chaudhary</td>\n",
       "      <td>Nitin Menon</td>\n",
       "      <td>Paul Reiffel</td>\n",
       "      <td>Javagal Srinath</td>\n",
       "      <td>Yeshwant Barde</td>\n",
       "    </tr>\n",
       "    <tr>\n",
       "      <th>2</th>\n",
       "      <td>2020</td>\n",
       "      <td>1216534</td>\n",
       "      <td>Sunrisers Hyderabad v Royal Challengers Bangalore</td>\n",
       "      <td>Sunrisers Hyderabad v Royal Challengers Bangalore</td>\n",
       "      <td>3rd Match (N), Indian PreMumbai Indianser Leag...</td>\n",
       "      <td>Sunrisers Hyderabad</td>\n",
       "      <td>Royal Challengers Bangalore</td>\n",
       "      <td>Sunrisers Hyderabad</td>\n",
       "      <td>BOWL FIRST</td>\n",
       "      <td>163/5</td>\n",
       "      <td>...</td>\n",
       "      <td>David Warner (BT),Jonny Bairstow (WK),Manish P...</td>\n",
       "      <td>Devdutt Padikkal (BT),Aaron Finch (BT),Virat K...</td>\n",
       "      <td>Devdutt Padikkal,AB de Villiers</td>\n",
       "      <td>Yuzvendra Chahal,Shivam Dube</td>\n",
       "      <td>21 September 2020 - night match (20-over match)</td>\n",
       "      <td>Anil Dandekar</td>\n",
       "      <td>Nitin Menon</td>\n",
       "      <td>Anil Chaudhary</td>\n",
       "      <td>Prakash Bhatt</td>\n",
       "      <td>Yeshwant Barde</td>\n",
       "    </tr>\n",
       "    <tr>\n",
       "      <th>3</th>\n",
       "      <td>2020</td>\n",
       "      <td>1216496</td>\n",
       "      <td>Rajasthan Royals v Chennai Super Kings</td>\n",
       "      <td>Rajasthan Royals v Chennai Super Kings</td>\n",
       "      <td>4th Match (N), Indian PreMumbai Indianser Leag...</td>\n",
       "      <td>Rajasthan Royals</td>\n",
       "      <td>Chennai Super Kings</td>\n",
       "      <td>Chennai Super Kings</td>\n",
       "      <td>BOWL FIRST</td>\n",
       "      <td>216/7</td>\n",
       "      <td>...</td>\n",
       "      <td>Yashasvi Jaiswal (BT),Steven SMumbai Indiansth...</td>\n",
       "      <td>Murali Vijay (BT),Shane Watson (AR),Faf du Ple...</td>\n",
       "      <td>Faf du Plessis,Shane Watson</td>\n",
       "      <td>Sam CuRajasthan Royalsan,Deepak Chahar</td>\n",
       "      <td>22 September 2020 - night match (20-over match)</td>\n",
       "      <td>Chettithody Shamshuddin</td>\n",
       "      <td>Vineet Kulkarni</td>\n",
       "      <td>KN Ananthapadmanabhan</td>\n",
       "      <td>Vengalil Narayan Kutty</td>\n",
       "      <td>Krishnamachari Srinivasan</td>\n",
       "    </tr>\n",
       "    <tr>\n",
       "      <th>4</th>\n",
       "      <td>2020</td>\n",
       "      <td>1216508</td>\n",
       "      <td>Kolkata Knight Riders v Mumbai Indians</td>\n",
       "      <td>Kolkata Knight Riders v Mumbai Indians</td>\n",
       "      <td>5th Match (N), Indian PreMumbai Indianser Leag...</td>\n",
       "      <td>Kolkata Knight Riders</td>\n",
       "      <td>Mumbai Indians</td>\n",
       "      <td>Kolkata Knight Riders</td>\n",
       "      <td>BOWL FIRST</td>\n",
       "      <td>195/5</td>\n",
       "      <td>...</td>\n",
       "      <td>Shubman Gill (BT),Sunil Narine (AR),Dinesh Kar...</td>\n",
       "      <td>Quinton de Kock (WK),Rohit Sharma (BT),Suryaku...</td>\n",
       "      <td>Rohit Sharma,Suryakumar Yadav</td>\n",
       "      <td>James Pattinson,Rahul Chahar</td>\n",
       "      <td>23 September 2020 - night match (20-over match)</td>\n",
       "      <td>Chris Gaffaney</td>\n",
       "      <td>Sundaram Ravi</td>\n",
       "      <td>Virender Sharma</td>\n",
       "      <td>Manu Nayyar</td>\n",
       "      <td>Pashchim Pathak</td>\n",
       "    </tr>\n",
       "  </tbody>\n",
       "</table>\n",
       "<p>5 rows × 45 columns</p>\n",
       "</div>"
      ],
      "text/plain": [
       "   season       id                                               name  \\\n",
       "0    2020  1216492               Mumbai Indians v Chennai Super Kings   \n",
       "1    2020  1216493                   Delhi Capitals v Kings XI Punjab   \n",
       "2    2020  1216534  Sunrisers Hyderabad v Royal Challengers Bangalore   \n",
       "3    2020  1216496             Rajasthan Royals v Chennai Super Kings   \n",
       "4    2020  1216508             Kolkata Knight Riders v Mumbai Indians   \n",
       "\n",
       "                                          short_name  \\\n",
       "0               Mumbai Indians v Chennai Super Kings   \n",
       "1                   Delhi Capitals v Kings XI Punjab   \n",
       "2  Sunrisers Hyderabad v Royal Challengers Bangalore   \n",
       "3             Rajasthan Royals v Chennai Super Kings   \n",
       "4             Kolkata Knight Riders v Mumbai Indians   \n",
       "\n",
       "                                         description              home_team  \\\n",
       "0  1st Match (N), Indian PreMumbai Indianser Leag...         Mumbai Indians   \n",
       "1  2nd Match (N), Indian PreMumbai Indianser Leag...         Delhi Capitals   \n",
       "2  3rd Match (N), Indian PreMumbai Indianser Leag...    Sunrisers Hyderabad   \n",
       "3  4th Match (N), Indian PreMumbai Indianser Leag...       Rajasthan Royals   \n",
       "4  5th Match (N), Indian PreMumbai Indianser Leag...  Kolkata Knight Riders   \n",
       "\n",
       "                     away_team               toss_won    decision  \\\n",
       "0          Chennai Super Kings    Chennai Super Kings  BOWL FIRST   \n",
       "1              Kings XI Punjab        Kings XI Punjab  BOWL FIRST   \n",
       "2  Royal Challengers Bangalore    Sunrisers Hyderabad  BOWL FIRST   \n",
       "3          Chennai Super Kings    Chennai Super Kings  BOWL FIRST   \n",
       "4               Mumbai Indians  Kolkata Knight Riders  BOWL FIRST   \n",
       "\n",
       "  1st_inning_score  ...                                        home_playx1  \\\n",
       "0            162/9  ...  Rohit Sharma (BT),Quinton de Kock (WK),Suryaku...   \n",
       "1            157/8  ...  Prithvi Shaw (BT),Shikhar Dhawan (BT),Shimron ...   \n",
       "2            163/5  ...  David Warner (BT),Jonny Bairstow (WK),Manish P...   \n",
       "3            216/7  ...  Yashasvi Jaiswal (BT),Steven SMumbai Indiansth...   \n",
       "4            195/5  ...  Shubman Gill (BT),Sunil Narine (AR),Dinesh Kar...   \n",
       "\n",
       "                                         away_playx1  \\\n",
       "0  Murali Vijay (BT),Shane Watson (AR),Faf du Ple...   \n",
       "1  KL Rahul (WK),Mayank Agarwal (BT),Karun Nair (...   \n",
       "2  Devdutt Padikkal (BT),Aaron Finch (BT),Virat K...   \n",
       "3  Murali Vijay (BT),Shane Watson (AR),Faf du Ple...   \n",
       "4  Quinton de Kock (WK),Rohit Sharma (BT),Suryaku...   \n",
       "\n",
       "                  away_key_batsman  \\\n",
       "0     Ambati Rayudu,Faf du Plessis   \n",
       "1          Mayank Agarwal,KL Rahul   \n",
       "2  Devdutt Padikkal,AB de Villiers   \n",
       "3      Faf du Plessis,Shane Watson   \n",
       "4    Rohit Sharma,Suryakumar Yadav   \n",
       "\n",
       "                               away_key_bowler  \\\n",
       "0                    Lungi Ngidi,Deepak Chahar   \n",
       "1  Mohammed ShaMumbai Indians,Sheldon Cottrell   \n",
       "2                 Yuzvendra Chahal,Shivam Dube   \n",
       "3       Sam CuRajasthan Royalsan,Deepak Chahar   \n",
       "4                 James Pattinson,Rahul Chahar   \n",
       "\n",
       "                                        match_days                  umpire1  \\\n",
       "0  19 September 2020 - night match (20-over match)           Chris Gaffaney   \n",
       "1  20 September 2020 - night match (20-over match)           Anil Chaudhary   \n",
       "2  21 September 2020 - night match (20-over match)            Anil Dandekar   \n",
       "3  22 September 2020 - night match (20-over match)  Chettithody Shamshuddin   \n",
       "4  23 September 2020 - night match (20-over match)           Chris Gaffaney   \n",
       "\n",
       "           umpire2              tv_umpire                 referee  \\\n",
       "0  Virender Sharma          Sundaram Ravi             Manu Nayyar   \n",
       "1      Nitin Menon           Paul Reiffel         Javagal Srinath   \n",
       "2      Nitin Menon         Anil Chaudhary           Prakash Bhatt   \n",
       "3  Vineet Kulkarni  KN Ananthapadmanabhan  Vengalil Narayan Kutty   \n",
       "4    Sundaram Ravi        Virender Sharma             Manu Nayyar   \n",
       "\n",
       "              reserve_umpire  \n",
       "0               Ulhas Gandhe  \n",
       "1             Yeshwant Barde  \n",
       "2             Yeshwant Barde  \n",
       "3  Krishnamachari Srinivasan  \n",
       "4            Pashchim Pathak  \n",
       "\n",
       "[5 rows x 45 columns]"
      ]
     },
     "execution_count": 40,
     "metadata": {},
     "output_type": "execute_result"
    }
   ],
   "source": [
    "df_upto2020= pd.read_csv(r\"C:./Desktop/all_season_summary.csv\")\n",
    "df_upto2020.head(5)"
   ]
  },
  {
   "cell_type": "code",
   "execution_count": 47,
   "id": "40974d8e",
   "metadata": {},
   "outputs": [
    {
     "data": {
      "text/plain": [
       "Text(0.5, 1.0, 'Most Wins')"
      ]
     },
     "execution_count": 47,
     "metadata": {},
     "output_type": "execute_result"
    },
    {
     "data": {
      "image/png": "[encoded data removed]",
      "text/plain": [
       "<Figure size 1440x864 with 1 Axes>"
      ]
     },
     "metadata": {},
     "output_type": "display_data"
    }
   ],
   "source": [
    "temp=pd.DataFrame({'winner':df_upto2020['winner']})\n",
    "count_wins=temp.value_counts()\n",
    "#print(count_wins)\n",
    "labels=[X[0]for X in count_wins.keys()]\n",
    "bar,ax =plt.subplots(figsize=(20,12))\n",
    "ax=plt.pie(x=count_wins,autopct='%.1f%%',labels=labels)\n",
    "plt.title('Most Wins',fontsize=17)"
   ]
  },
  {
   "cell_type": "code",
   "execution_count": 51,
   "id": "e354ecc0",
   "metadata": {},
   "outputs": [
    {
     "data": {
      "text/plain": [
       "<AxesSubplot:xlabel='Years'>"
      ]
     },
     "execution_count": 51,
     "metadata": {},
     "output_type": "execute_result"
    },
    {
     "data": {
      "image/png": "[encoded data removed]",
      "text/plain": [
       "<Figure size 432x288 with 1 Axes>"
      ]
     },
     "metadata": {
      "needs_background": "light"
     },
     "output_type": "display_data"
    }
   ],
   "source": [
    "### Wins of RCB in different season\n",
    "rcb_wins=df_upto2020[df_upto2020['winner']=='Royal Challengers Bangalore']['season'].value_counts().reset_index()\n",
    "rcb_wins.rename(columns={'index':'Years'},inplace=True)\n",
    "s9 =rcb_wins.head(25)\n",
    "s9.plot.bar(x=\"Years\")"
   ]
  },
  {
   "cell_type": "markdown",
   "id": "44465922",
   "metadata": {},
   "source": [
    "# Analysis of rcb in 2021"
   ]
  },
  {
   "cell_type": "code",
   "execution_count": null,
   "id": "cdc7b7ef",
   "metadata": {},
   "outputs": [],
   "source": [
    "df= pd.read_csv(r\"C:./Desktop/all_matches.csv\")\n",
    "rcb=(df['season']=='2021')\n",
    "df_rcb0=df[rcb]\n",
    "df_rcb0.head()"
   ]
  },
  {
   "cell_type": "code",
   "execution_count": 82,
   "id": "4a6e2e6b",
   "metadata": {},
   "outputs": [
    {
     "data": {
      "text/html": [
       "<div>\n",
       "<style scoped>\n",
       "    .dataframe tbody tr th:only-of-type {\n",
       "        vertical-align: middle;\n",
       "    }\n",
       "\n",
       "    .dataframe tbody tr th {\n",
       "        vertical-align: top;\n",
       "    }\n",
       "\n",
       "    .dataframe thead th {\n",
       "        text-align: right;\n",
       "    }\n",
       "</style>\n",
       "<table border=\"1\" class=\"dataframe\">\n",
       "  <thead>\n",
       "    <tr style=\"text-align: right;\">\n",
       "      <th></th>\n",
       "      <th>match_name</th>\n",
       "      <th>inning</th>\n",
       "      <th>batting_team</th>\n",
       "      <th>bowling_team</th>\n",
       "      <th>ball</th>\n",
       "      <th>non_striker</th>\n",
       "      <th>batsman</th>\n",
       "      <th>bowler</th>\n",
       "      <th>extra_runs</th>\n",
       "      <th>batsman_run</th>\n",
       "      <th>...</th>\n",
       "      <th>player_out</th>\n",
       "      <th>elimination_kind</th>\n",
       "      <th>fielders_caught</th>\n",
       "      <th>umpires_1</th>\n",
       "      <th>umpires_2</th>\n",
       "      <th>player_of_match</th>\n",
       "      <th>winner</th>\n",
       "      <th>city</th>\n",
       "      <th>venue</th>\n",
       "      <th>dates</th>\n",
       "    </tr>\n",
       "  </thead>\n",
       "  <tbody>\n",
       "    <tr>\n",
       "      <th>0</th>\n",
       "      <td>MI vs RCB 2021-04-09</td>\n",
       "      <td>1st innings</td>\n",
       "      <td>Mumbai Indians</td>\n",
       "      <td>Royal Challengers Bangalore</td>\n",
       "      <td>0.1</td>\n",
       "      <td>CA Lynn</td>\n",
       "      <td>RG Sharma</td>\n",
       "      <td>Mohammed Siraj</td>\n",
       "      <td>0</td>\n",
       "      <td>2</td>\n",
       "      <td>...</td>\n",
       "      <td>NaN</td>\n",
       "      <td>NaN</td>\n",
       "      <td>NaN</td>\n",
       "      <td>KN Ananthapadmanabhan</td>\n",
       "      <td>Nitin Menon</td>\n",
       "      <td>HV Patel</td>\n",
       "      <td>Royal Challengers Bangalore</td>\n",
       "      <td>Chennai</td>\n",
       "      <td>MA Chidambaram Stadium, Chepauk, Chennai</td>\n",
       "      <td>2021-04-09</td>\n",
       "    </tr>\n",
       "    <tr>\n",
       "      <th>1</th>\n",
       "      <td>MI vs RCB 2021-04-09</td>\n",
       "      <td>1st innings</td>\n",
       "      <td>Mumbai Indians</td>\n",
       "      <td>Royal Challengers Bangalore</td>\n",
       "      <td>0.2</td>\n",
       "      <td>CA Lynn</td>\n",
       "      <td>RG Sharma</td>\n",
       "      <td>Mohammed Siraj</td>\n",
       "      <td>0</td>\n",
       "      <td>0</td>\n",
       "      <td>...</td>\n",
       "      <td>NaN</td>\n",
       "      <td>NaN</td>\n",
       "      <td>NaN</td>\n",
       "      <td>KN Ananthapadmanabhan</td>\n",
       "      <td>Nitin Menon</td>\n",
       "      <td>HV Patel</td>\n",
       "      <td>Royal Challengers Bangalore</td>\n",
       "      <td>Chennai</td>\n",
       "      <td>MA Chidambaram Stadium, Chepauk, Chennai</td>\n",
       "      <td>2021-04-09</td>\n",
       "    </tr>\n",
       "    <tr>\n",
       "      <th>2</th>\n",
       "      <td>MI vs RCB 2021-04-09</td>\n",
       "      <td>1st innings</td>\n",
       "      <td>Mumbai Indians</td>\n",
       "      <td>Royal Challengers Bangalore</td>\n",
       "      <td>0.3</td>\n",
       "      <td>CA Lynn</td>\n",
       "      <td>RG Sharma</td>\n",
       "      <td>Mohammed Siraj</td>\n",
       "      <td>0</td>\n",
       "      <td>0</td>\n",
       "      <td>...</td>\n",
       "      <td>NaN</td>\n",
       "      <td>NaN</td>\n",
       "      <td>NaN</td>\n",
       "      <td>KN Ananthapadmanabhan</td>\n",
       "      <td>Nitin Menon</td>\n",
       "      <td>HV Patel</td>\n",
       "      <td>Royal Challengers Bangalore</td>\n",
       "      <td>Chennai</td>\n",
       "      <td>MA Chidambaram Stadium, Chepauk, Chennai</td>\n",
       "      <td>2021-04-09</td>\n",
       "    </tr>\n",
       "    <tr>\n",
       "      <th>3</th>\n",
       "      <td>MI vs RCB 2021-04-09</td>\n",
       "      <td>1st innings</td>\n",
       "      <td>Mumbai Indians</td>\n",
       "      <td>Royal Challengers Bangalore</td>\n",
       "      <td>0.4</td>\n",
       "      <td>CA Lynn</td>\n",
       "      <td>RG Sharma</td>\n",
       "      <td>Mohammed Siraj</td>\n",
       "      <td>0</td>\n",
       "      <td>2</td>\n",
       "      <td>...</td>\n",
       "      <td>NaN</td>\n",
       "      <td>NaN</td>\n",
       "      <td>NaN</td>\n",
       "      <td>KN Ananthapadmanabhan</td>\n",
       "      <td>Nitin Menon</td>\n",
       "      <td>HV Patel</td>\n",
       "      <td>Royal Challengers Bangalore</td>\n",
       "      <td>Chennai</td>\n",
       "      <td>MA Chidambaram Stadium, Chepauk, Chennai</td>\n",
       "      <td>2021-04-09</td>\n",
       "    </tr>\n",
       "    <tr>\n",
       "      <th>4</th>\n",
       "      <td>MI vs RCB 2021-04-09</td>\n",
       "      <td>1st innings</td>\n",
       "      <td>Mumbai Indians</td>\n",
       "      <td>Royal Challengers Bangalore</td>\n",
       "      <td>0.5</td>\n",
       "      <td>CA Lynn</td>\n",
       "      <td>RG Sharma</td>\n",
       "      <td>Mohammed Siraj</td>\n",
       "      <td>0</td>\n",
       "      <td>0</td>\n",
       "      <td>...</td>\n",
       "      <td>NaN</td>\n",
       "      <td>NaN</td>\n",
       "      <td>NaN</td>\n",
       "      <td>KN Ananthapadmanabhan</td>\n",
       "      <td>Nitin Menon</td>\n",
       "      <td>HV Patel</td>\n",
       "      <td>Royal Challengers Bangalore</td>\n",
       "      <td>Chennai</td>\n",
       "      <td>MA Chidambaram Stadium, Chepauk, Chennai</td>\n",
       "      <td>2021-04-09</td>\n",
       "    </tr>\n",
       "    <tr>\n",
       "      <th>...</th>\n",
       "      <td>...</td>\n",
       "      <td>...</td>\n",
       "      <td>...</td>\n",
       "      <td>...</td>\n",
       "      <td>...</td>\n",
       "      <td>...</td>\n",
       "      <td>...</td>\n",
       "      <td>...</td>\n",
       "      <td>...</td>\n",
       "      <td>...</td>\n",
       "      <td>...</td>\n",
       "      <td>...</td>\n",
       "      <td>...</td>\n",
       "      <td>...</td>\n",
       "      <td>...</td>\n",
       "      <td>...</td>\n",
       "      <td>...</td>\n",
       "      <td>...</td>\n",
       "      <td>...</td>\n",
       "      <td>...</td>\n",
       "      <td>...</td>\n",
       "    </tr>\n",
       "    <tr>\n",
       "      <th>14408</th>\n",
       "      <td>CSK vs KKR 2021-10-15</td>\n",
       "      <td>2nd innings</td>\n",
       "      <td>Kolkata Knight Riders</td>\n",
       "      <td>Chennai Super Kings</td>\n",
       "      <td>19.2</td>\n",
       "      <td>LH Ferguson</td>\n",
       "      <td>Shivam Mavi</td>\n",
       "      <td>DJ Bravo</td>\n",
       "      <td>0</td>\n",
       "      <td>1</td>\n",
       "      <td>...</td>\n",
       "      <td>NaN</td>\n",
       "      <td>NaN</td>\n",
       "      <td>NaN</td>\n",
       "      <td>Nitin Menon</td>\n",
       "      <td>RK Illingworth</td>\n",
       "      <td>F du Plessis</td>\n",
       "      <td>Chennai Super Kings</td>\n",
       "      <td>Dubai</td>\n",
       "      <td>Dubai International Cricket Stadium</td>\n",
       "      <td>2021-10-15</td>\n",
       "    </tr>\n",
       "    <tr>\n",
       "      <th>14409</th>\n",
       "      <td>CSK vs KKR 2021-10-15</td>\n",
       "      <td>2nd innings</td>\n",
       "      <td>Kolkata Knight Riders</td>\n",
       "      <td>Chennai Super Kings</td>\n",
       "      <td>19.3</td>\n",
       "      <td>Shivam Mavi</td>\n",
       "      <td>LH Ferguson</td>\n",
       "      <td>DJ Bravo</td>\n",
       "      <td>0</td>\n",
       "      <td>1</td>\n",
       "      <td>...</td>\n",
       "      <td>NaN</td>\n",
       "      <td>NaN</td>\n",
       "      <td>NaN</td>\n",
       "      <td>Nitin Menon</td>\n",
       "      <td>RK Illingworth</td>\n",
       "      <td>F du Plessis</td>\n",
       "      <td>Chennai Super Kings</td>\n",
       "      <td>Dubai</td>\n",
       "      <td>Dubai International Cricket Stadium</td>\n",
       "      <td>2021-10-15</td>\n",
       "    </tr>\n",
       "    <tr>\n",
       "      <th>14410</th>\n",
       "      <td>CSK vs KKR 2021-10-15</td>\n",
       "      <td>2nd innings</td>\n",
       "      <td>Kolkata Knight Riders</td>\n",
       "      <td>Chennai Super Kings</td>\n",
       "      <td>19.4</td>\n",
       "      <td>LH Ferguson</td>\n",
       "      <td>Shivam Mavi</td>\n",
       "      <td>DJ Bravo</td>\n",
       "      <td>0</td>\n",
       "      <td>0</td>\n",
       "      <td>...</td>\n",
       "      <td>NaN</td>\n",
       "      <td>NaN</td>\n",
       "      <td>NaN</td>\n",
       "      <td>Nitin Menon</td>\n",
       "      <td>RK Illingworth</td>\n",
       "      <td>F du Plessis</td>\n",
       "      <td>Chennai Super Kings</td>\n",
       "      <td>Dubai</td>\n",
       "      <td>Dubai International Cricket Stadium</td>\n",
       "      <td>2021-10-15</td>\n",
       "    </tr>\n",
       "    <tr>\n",
       "      <th>14411</th>\n",
       "      <td>CSK vs KKR 2021-10-15</td>\n",
       "      <td>2nd innings</td>\n",
       "      <td>Kolkata Knight Riders</td>\n",
       "      <td>Chennai Super Kings</td>\n",
       "      <td>19.5</td>\n",
       "      <td>LH Ferguson</td>\n",
       "      <td>Shivam Mavi</td>\n",
       "      <td>DJ Bravo</td>\n",
       "      <td>0</td>\n",
       "      <td>0</td>\n",
       "      <td>...</td>\n",
       "      <td>Shivam Mavi</td>\n",
       "      <td>caught</td>\n",
       "      <td>DL Chahar</td>\n",
       "      <td>Nitin Menon</td>\n",
       "      <td>RK Illingworth</td>\n",
       "      <td>F du Plessis</td>\n",
       "      <td>Chennai Super Kings</td>\n",
       "      <td>Dubai</td>\n",
       "      <td>Dubai International Cricket Stadium</td>\n",
       "      <td>2021-10-15</td>\n",
       "    </tr>\n",
       "    <tr>\n",
       "      <th>14412</th>\n",
       "      <td>CSK vs KKR 2021-10-15</td>\n",
       "      <td>2nd innings</td>\n",
       "      <td>Kolkata Knight Riders</td>\n",
       "      <td>Chennai Super Kings</td>\n",
       "      <td>19.6</td>\n",
       "      <td>CV Varun</td>\n",
       "      <td>LH Ferguson</td>\n",
       "      <td>DJ Bravo</td>\n",
       "      <td>0</td>\n",
       "      <td>1</td>\n",
       "      <td>...</td>\n",
       "      <td>NaN</td>\n",
       "      <td>NaN</td>\n",
       "      <td>NaN</td>\n",
       "      <td>Nitin Menon</td>\n",
       "      <td>RK Illingworth</td>\n",
       "      <td>F du Plessis</td>\n",
       "      <td>Chennai Super Kings</td>\n",
       "      <td>Dubai</td>\n",
       "      <td>Dubai International Cricket Stadium</td>\n",
       "      <td>2021-10-15</td>\n",
       "    </tr>\n",
       "  </tbody>\n",
       "</table>\n",
       "<p>14413 rows × 22 columns</p>\n",
       "</div>"
      ],
      "text/plain": [
       "                  match_name       inning           batting_team  \\\n",
       "0       MI vs RCB 2021-04-09  1st innings         Mumbai Indians   \n",
       "1       MI vs RCB 2021-04-09  1st innings         Mumbai Indians   \n",
       "2       MI vs RCB 2021-04-09  1st innings         Mumbai Indians   \n",
       "3       MI vs RCB 2021-04-09  1st innings         Mumbai Indians   \n",
       "4       MI vs RCB 2021-04-09  1st innings         Mumbai Indians   \n",
       "...                      ...          ...                    ...   \n",
       "14408  CSK vs KKR 2021-10-15  2nd innings  Kolkata Knight Riders   \n",
       "14409  CSK vs KKR 2021-10-15  2nd innings  Kolkata Knight Riders   \n",
       "14410  CSK vs KKR 2021-10-15  2nd innings  Kolkata Knight Riders   \n",
       "14411  CSK vs KKR 2021-10-15  2nd innings  Kolkata Knight Riders   \n",
       "14412  CSK vs KKR 2021-10-15  2nd innings  Kolkata Knight Riders   \n",
       "\n",
       "                      bowling_team  ball  non_striker      batsman  \\\n",
       "0      Royal Challengers Bangalore   0.1      CA Lynn    RG Sharma   \n",
       "1      Royal Challengers Bangalore   0.2      CA Lynn    RG Sharma   \n",
       "2      Royal Challengers Bangalore   0.3      CA Lynn    RG Sharma   \n",
       "3      Royal Challengers Bangalore   0.4      CA Lynn    RG Sharma   \n",
       "4      Royal Challengers Bangalore   0.5      CA Lynn    RG Sharma   \n",
       "...                            ...   ...          ...          ...   \n",
       "14408          Chennai Super Kings  19.2  LH Ferguson  Shivam Mavi   \n",
       "14409          Chennai Super Kings  19.3  Shivam Mavi  LH Ferguson   \n",
       "14410          Chennai Super Kings  19.4  LH Ferguson  Shivam Mavi   \n",
       "14411          Chennai Super Kings  19.5  LH Ferguson  Shivam Mavi   \n",
       "14412          Chennai Super Kings  19.6     CV Varun  LH Ferguson   \n",
       "\n",
       "               bowler  extra_runs  batsman_run  ...   player_out  \\\n",
       "0      Mohammed Siraj           0            2  ...          NaN   \n",
       "1      Mohammed Siraj           0            0  ...          NaN   \n",
       "2      Mohammed Siraj           0            0  ...          NaN   \n",
       "3      Mohammed Siraj           0            2  ...          NaN   \n",
       "4      Mohammed Siraj           0            0  ...          NaN   \n",
       "...               ...         ...          ...  ...          ...   \n",
       "14408        DJ Bravo           0            1  ...          NaN   \n",
       "14409        DJ Bravo           0            1  ...          NaN   \n",
       "14410        DJ Bravo           0            0  ...          NaN   \n",
       "14411        DJ Bravo           0            0  ...  Shivam Mavi   \n",
       "14412        DJ Bravo           0            1  ...          NaN   \n",
       "\n",
       "      elimination_kind fielders_caught              umpires_1       umpires_2  \\\n",
       "0                  NaN             NaN  KN Ananthapadmanabhan     Nitin Menon   \n",
       "1                  NaN             NaN  KN Ananthapadmanabhan     Nitin Menon   \n",
       "2                  NaN             NaN  KN Ananthapadmanabhan     Nitin Menon   \n",
       "3                  NaN             NaN  KN Ananthapadmanabhan     Nitin Menon   \n",
       "4                  NaN             NaN  KN Ananthapadmanabhan     Nitin Menon   \n",
       "...                ...             ...                    ...             ...   \n",
       "14408              NaN             NaN            Nitin Menon  RK Illingworth   \n",
       "14409              NaN             NaN            Nitin Menon  RK Illingworth   \n",
       "14410              NaN             NaN            Nitin Menon  RK Illingworth   \n",
       "14411           caught       DL Chahar            Nitin Menon  RK Illingworth   \n",
       "14412              NaN             NaN            Nitin Menon  RK Illingworth   \n",
       "\n",
       "      player_of_match                       winner     city  \\\n",
       "0            HV Patel  Royal Challengers Bangalore  Chennai   \n",
       "1            HV Patel  Royal Challengers Bangalore  Chennai   \n",
       "2            HV Patel  Royal Challengers Bangalore  Chennai   \n",
       "3            HV Patel  Royal Challengers Bangalore  Chennai   \n",
       "4            HV Patel  Royal Challengers Bangalore  Chennai   \n",
       "...               ...                          ...      ...   \n",
       "14408    F du Plessis          Chennai Super Kings    Dubai   \n",
       "14409    F du Plessis          Chennai Super Kings    Dubai   \n",
       "14410    F du Plessis          Chennai Super Kings    Dubai   \n",
       "14411    F du Plessis          Chennai Super Kings    Dubai   \n",
       "14412    F du Plessis          Chennai Super Kings    Dubai   \n",
       "\n",
       "                                          venue       dates  \n",
       "0      MA Chidambaram Stadium, Chepauk, Chennai  2021-04-09  \n",
       "1      MA Chidambaram Stadium, Chepauk, Chennai  2021-04-09  \n",
       "2      MA Chidambaram Stadium, Chepauk, Chennai  2021-04-09  \n",
       "3      MA Chidambaram Stadium, Chepauk, Chennai  2021-04-09  \n",
       "4      MA Chidambaram Stadium, Chepauk, Chennai  2021-04-09  \n",
       "...                                         ...         ...  \n",
       "14408       Dubai International Cricket Stadium  2021-10-15  \n",
       "14409       Dubai International Cricket Stadium  2021-10-15  \n",
       "14410       Dubai International Cricket Stadium  2021-10-15  \n",
       "14411       Dubai International Cricket Stadium  2021-10-15  \n",
       "14412       Dubai International Cricket Stadium  2021-10-15  \n",
       "\n",
       "[14413 rows x 22 columns]"
      ]
     },
     "execution_count": 82,
     "metadata": {},
     "output_type": "execute_result"
    }
   ],
   "source": [
    "#Analysis of rcb in 2021\n",
    "dfk= pd.read_csv(r\"C:./Desktop/ALL_2021_IPL_MATCHES_BALL_BY_BALL.csv\")\n",
    "dfk"
   ]
  },
  {
   "cell_type": "code",
   "execution_count": 84,
   "id": "e3eb58b6",
   "metadata": {},
   "outputs": [
    {
     "data": {
      "text/html": [
       "<div>\n",
       "<style scoped>\n",
       "    .dataframe tbody tr th:only-of-type {\n",
       "        vertical-align: middle;\n",
       "    }\n",
       "\n",
       "    .dataframe tbody tr th {\n",
       "        vertical-align: top;\n",
       "    }\n",
       "\n",
       "    .dataframe thead th {\n",
       "        text-align: right;\n",
       "    }\n",
       "</style>\n",
       "<table border=\"1\" class=\"dataframe\">\n",
       "  <thead>\n",
       "    <tr style=\"text-align: right;\">\n",
       "      <th></th>\n",
       "      <th>Batsman</th>\n",
       "      <th>Runs</th>\n",
       "    </tr>\n",
       "  </thead>\n",
       "  <tbody>\n",
       "    <tr>\n",
       "      <th>105</th>\n",
       "      <td>RD Gaikwad</td>\n",
       "      <td>635</td>\n",
       "    </tr>\n",
       "    <tr>\n",
       "      <th>33</th>\n",
       "      <td>F du Plessis</td>\n",
       "      <td>633</td>\n",
       "    </tr>\n",
       "    <tr>\n",
       "      <th>61</th>\n",
       "      <td>KL Rahul</td>\n",
       "      <td>626</td>\n",
       "    </tr>\n",
       "    <tr>\n",
       "      <th>113</th>\n",
       "      <td>S Dhawan</td>\n",
       "      <td>587</td>\n",
       "    </tr>\n",
       "    <tr>\n",
       "      <th>37</th>\n",
       "      <td>GJ Maxwell</td>\n",
       "      <td>513</td>\n",
       "    </tr>\n",
       "    <tr>\n",
       "      <th>128</th>\n",
       "      <td>SV Samson</td>\n",
       "      <td>484</td>\n",
       "    </tr>\n",
       "    <tr>\n",
       "      <th>96</th>\n",
       "      <td>PP Shaw</td>\n",
       "      <td>479</td>\n",
       "    </tr>\n",
       "    <tr>\n",
       "      <th>134</th>\n",
       "      <td>Shubman Gill</td>\n",
       "      <td>478</td>\n",
       "    </tr>\n",
       "    <tr>\n",
       "      <th>74</th>\n",
       "      <td>MA Agarwal</td>\n",
       "      <td>441</td>\n",
       "    </tr>\n",
       "    <tr>\n",
       "      <th>108</th>\n",
       "      <td>RR Pant</td>\n",
       "      <td>419</td>\n",
       "    </tr>\n",
       "    <tr>\n",
       "      <th>22</th>\n",
       "      <td>D Padikkal</td>\n",
       "      <td>411</td>\n",
       "    </tr>\n",
       "    <tr>\n",
       "      <th>141</th>\n",
       "      <td>V Kohli</td>\n",
       "      <td>405</td>\n",
       "    </tr>\n",
       "    <tr>\n",
       "      <th>103</th>\n",
       "      <td>RA Tripathi</td>\n",
       "      <td>397</td>\n",
       "    </tr>\n",
       "    <tr>\n",
       "      <th>88</th>\n",
       "      <td>N Rana</td>\n",
       "      <td>383</td>\n",
       "    </tr>\n",
       "    <tr>\n",
       "      <th>106</th>\n",
       "      <td>RG Sharma</td>\n",
       "      <td>381</td>\n",
       "    </tr>\n",
       "  </tbody>\n",
       "</table>\n",
       "</div>"
      ],
      "text/plain": [
       "          Batsman  Runs\n",
       "105    RD Gaikwad   635\n",
       "33   F du Plessis   633\n",
       "61       KL Rahul   626\n",
       "113      S Dhawan   587\n",
       "37     GJ Maxwell   513\n",
       "128     SV Samson   484\n",
       "96        PP Shaw   479\n",
       "134  Shubman Gill   478\n",
       "74     MA Agarwal   441\n",
       "108       RR Pant   419\n",
       "22     D Padikkal   411\n",
       "141       V Kohli   405\n",
       "103   RA Tripathi   397\n",
       "88         N Rana   383\n",
       "106     RG Sharma   381"
      ]
     },
     "execution_count": 84,
     "metadata": {},
     "output_type": "execute_result"
    }
   ],
   "source": [
    "aruns = dfk.groupby(['batsman'])['batsman_run'].sum().reset_index()\n",
    "aruns.columns=['Batsman','Runs']\n",
    "y10 = aruns.sort_values(by='Runs',ascending=False ).head(15)\n",
    "y10"
   ]
  },
  {
   "cell_type": "code",
   "execution_count": 86,
   "id": "fea14511",
   "metadata": {},
   "outputs": [
    {
     "data": {
      "text/plain": [
       "<AxesSubplot:xlabel='Batsman'>"
      ]
     },
     "execution_count": 86,
     "metadata": {},
     "output_type": "execute_result"
    },
    {
     "data": {
      "image/png": "[encoded data removed]",
      "text/plain": [
       "<Figure size 432x288 with 1 Axes>"
      ]
     },
     "metadata": {
      "needs_background": "light"
     },
     "output_type": "display_data"
    }
   ],
   "source": [
    "y10.plot.bar(x=\"Batsman\")"
   ]
  },
  {
   "cell_type": "code",
   "execution_count": 93,
   "id": "1d3ddc6c",
   "metadata": {},
   "outputs": [
    {
     "data": {
      "text/plain": [
       "<AxesSubplot:xlabel='Types of runs'>"
      ]
     },
     "execution_count": 93,
     "metadata": {},
     "output_type": "execute_result"
    },
    {
     "data": {
      "image/png": "[encoded data removed]",
      "text/plain": [
       "<Figure size 432x288 with 1 Axes>"
      ]
     },
     "metadata": {
      "needs_background": "light"
     },
     "output_type": "display_data"
    }
   ],
   "source": [
    "rcb_wins1=dfk[dfk['batting_team']=='Royal Challengers Bangalore']['batsman_run'].value_counts().reset_index()\n",
    "rcb_wins1.rename(columns={'index':'Types of runs'},inplace=True)\n",
    "s9 =rcb_wins1.head(25)\n",
    "s9.plot.bar(x=\"Types of runs\")"
   ]
  },
  {
   "cell_type": "code",
   "execution_count": 136,
   "id": "d1cddb38",
   "metadata": {},
   "outputs": [
    {
     "data": {
      "text/plain": [
       "<AxesSubplot:xlabel='Types of runs'>"
      ]
     },
     "execution_count": 136,
     "metadata": {},
     "output_type": "execute_result"
    },
    {
     "data": {
      "image/png": "[encoded data removed]",
      "text/plain": [
       "<Figure size 432x288 with 1 Axes>"
      ]
     },
     "metadata": {
      "needs_background": "light"
     },
     "output_type": "display_data"
    }
   ],
   "source": [
    "#When rcb bowls\n",
    "rcb_wins4=dfk[dfk['bowling_team']=='Royal Challengers Bangalore']['batsman_run'].value_counts().reset_index()\n",
    "rcb_wins4.rename(columns={'index':'Types of runs'},inplace=True)\n",
    "s9 =rcb_wins4.head(25)\n",
    "s9.plot.bar(x=\"Types of runs\")"
   ]
  },
  {
   "cell_type": "code",
   "execution_count": 99,
   "id": "79b81dd8",
   "metadata": {},
   "outputs": [
    {
     "data": {
      "text/html": [
       "<div>\n",
       "<style scoped>\n",
       "    .dataframe tbody tr th:only-of-type {\n",
       "        vertical-align: middle;\n",
       "    }\n",
       "\n",
       "    .dataframe tbody tr th {\n",
       "        vertical-align: top;\n",
       "    }\n",
       "\n",
       "    .dataframe thead th {\n",
       "        text-align: right;\n",
       "    }\n",
       "</style>\n",
       "<table border=\"1\" class=\"dataframe\">\n",
       "  <thead>\n",
       "    <tr style=\"text-align: right;\">\n",
       "      <th></th>\n",
       "      <th>match_id</th>\n",
       "      <th>season</th>\n",
       "      <th>start_date</th>\n",
       "      <th>venue</th>\n",
       "      <th>innings</th>\n",
       "      <th>ball</th>\n",
       "      <th>batting_team</th>\n",
       "      <th>bowling_team</th>\n",
       "      <th>striker</th>\n",
       "      <th>non_striker</th>\n",
       "      <th>...</th>\n",
       "      <th>extras</th>\n",
       "      <th>wides</th>\n",
       "      <th>noballs</th>\n",
       "      <th>byes</th>\n",
       "      <th>legbyes</th>\n",
       "      <th>penalty</th>\n",
       "      <th>wicket_type</th>\n",
       "      <th>player_dismissed</th>\n",
       "      <th>other_wicket_type</th>\n",
       "      <th>other_player_dismissed</th>\n",
       "    </tr>\n",
       "  </thead>\n",
       "  <tbody>\n",
       "    <tr>\n",
       "      <th>124</th>\n",
       "      <td>335982</td>\n",
       "      <td>2007/08</td>\n",
       "      <td>2008-04-18</td>\n",
       "      <td>M Chinnaswamy Stadium</td>\n",
       "      <td>2</td>\n",
       "      <td>0.1</td>\n",
       "      <td>Royal Challengers Bangalore</td>\n",
       "      <td>Kolkata Knight Riders</td>\n",
       "      <td>R Dravid</td>\n",
       "      <td>W Jaffer</td>\n",
       "      <td>...</td>\n",
       "      <td>0</td>\n",
       "      <td>NaN</td>\n",
       "      <td>NaN</td>\n",
       "      <td>NaN</td>\n",
       "      <td>NaN</td>\n",
       "      <td>NaN</td>\n",
       "      <td>NaN</td>\n",
       "      <td>NaN</td>\n",
       "      <td>NaN</td>\n",
       "      <td>NaN</td>\n",
       "    </tr>\n",
       "    <tr>\n",
       "      <th>125</th>\n",
       "      <td>335982</td>\n",
       "      <td>2007/08</td>\n",
       "      <td>2008-04-18</td>\n",
       "      <td>M Chinnaswamy Stadium</td>\n",
       "      <td>2</td>\n",
       "      <td>0.2</td>\n",
       "      <td>Royal Challengers Bangalore</td>\n",
       "      <td>Kolkata Knight Riders</td>\n",
       "      <td>W Jaffer</td>\n",
       "      <td>R Dravid</td>\n",
       "      <td>...</td>\n",
       "      <td>1</td>\n",
       "      <td>1.0</td>\n",
       "      <td>NaN</td>\n",
       "      <td>NaN</td>\n",
       "      <td>NaN</td>\n",
       "      <td>NaN</td>\n",
       "      <td>NaN</td>\n",
       "      <td>NaN</td>\n",
       "      <td>NaN</td>\n",
       "      <td>NaN</td>\n",
       "    </tr>\n",
       "    <tr>\n",
       "      <th>126</th>\n",
       "      <td>335982</td>\n",
       "      <td>2007/08</td>\n",
       "      <td>2008-04-18</td>\n",
       "      <td>M Chinnaswamy Stadium</td>\n",
       "      <td>2</td>\n",
       "      <td>0.3</td>\n",
       "      <td>Royal Challengers Bangalore</td>\n",
       "      <td>Kolkata Knight Riders</td>\n",
       "      <td>W Jaffer</td>\n",
       "      <td>R Dravid</td>\n",
       "      <td>...</td>\n",
       "      <td>0</td>\n",
       "      <td>NaN</td>\n",
       "      <td>NaN</td>\n",
       "      <td>NaN</td>\n",
       "      <td>NaN</td>\n",
       "      <td>NaN</td>\n",
       "      <td>NaN</td>\n",
       "      <td>NaN</td>\n",
       "      <td>NaN</td>\n",
       "      <td>NaN</td>\n",
       "    </tr>\n",
       "    <tr>\n",
       "      <th>127</th>\n",
       "      <td>335982</td>\n",
       "      <td>2007/08</td>\n",
       "      <td>2008-04-18</td>\n",
       "      <td>M Chinnaswamy Stadium</td>\n",
       "      <td>2</td>\n",
       "      <td>0.4</td>\n",
       "      <td>Royal Challengers Bangalore</td>\n",
       "      <td>Kolkata Knight Riders</td>\n",
       "      <td>W Jaffer</td>\n",
       "      <td>R Dravid</td>\n",
       "      <td>...</td>\n",
       "      <td>0</td>\n",
       "      <td>NaN</td>\n",
       "      <td>NaN</td>\n",
       "      <td>NaN</td>\n",
       "      <td>NaN</td>\n",
       "      <td>NaN</td>\n",
       "      <td>NaN</td>\n",
       "      <td>NaN</td>\n",
       "      <td>NaN</td>\n",
       "      <td>NaN</td>\n",
       "    </tr>\n",
       "    <tr>\n",
       "      <th>128</th>\n",
       "      <td>335982</td>\n",
       "      <td>2007/08</td>\n",
       "      <td>2008-04-18</td>\n",
       "      <td>M Chinnaswamy Stadium</td>\n",
       "      <td>2</td>\n",
       "      <td>0.5</td>\n",
       "      <td>Royal Challengers Bangalore</td>\n",
       "      <td>Kolkata Knight Riders</td>\n",
       "      <td>R Dravid</td>\n",
       "      <td>W Jaffer</td>\n",
       "      <td>...</td>\n",
       "      <td>0</td>\n",
       "      <td>NaN</td>\n",
       "      <td>NaN</td>\n",
       "      <td>NaN</td>\n",
       "      <td>NaN</td>\n",
       "      <td>NaN</td>\n",
       "      <td>NaN</td>\n",
       "      <td>NaN</td>\n",
       "      <td>NaN</td>\n",
       "      <td>NaN</td>\n",
       "    </tr>\n",
       "  </tbody>\n",
       "</table>\n",
       "<p>5 rows × 22 columns</p>\n",
       "</div>"
      ],
      "text/plain": [
       "     match_id   season  start_date                  venue  innings  ball  \\\n",
       "124    335982  2007/08  2008-04-18  M Chinnaswamy Stadium        2   0.1   \n",
       "125    335982  2007/08  2008-04-18  M Chinnaswamy Stadium        2   0.2   \n",
       "126    335982  2007/08  2008-04-18  M Chinnaswamy Stadium        2   0.3   \n",
       "127    335982  2007/08  2008-04-18  M Chinnaswamy Stadium        2   0.4   \n",
       "128    335982  2007/08  2008-04-18  M Chinnaswamy Stadium        2   0.5   \n",
       "\n",
       "                    batting_team           bowling_team   striker non_striker  \\\n",
       "124  Royal Challengers Bangalore  Kolkata Knight Riders  R Dravid    W Jaffer   \n",
       "125  Royal Challengers Bangalore  Kolkata Knight Riders  W Jaffer    R Dravid   \n",
       "126  Royal Challengers Bangalore  Kolkata Knight Riders  W Jaffer    R Dravid   \n",
       "127  Royal Challengers Bangalore  Kolkata Knight Riders  W Jaffer    R Dravid   \n",
       "128  Royal Challengers Bangalore  Kolkata Knight Riders  R Dravid    W Jaffer   \n",
       "\n",
       "     ... extras  wides  noballs  byes  legbyes  penalty  wicket_type  \\\n",
       "124  ...      0    NaN      NaN   NaN      NaN      NaN          NaN   \n",
       "125  ...      1    1.0      NaN   NaN      NaN      NaN          NaN   \n",
       "126  ...      0    NaN      NaN   NaN      NaN      NaN          NaN   \n",
       "127  ...      0    NaN      NaN   NaN      NaN      NaN          NaN   \n",
       "128  ...      0    NaN      NaN   NaN      NaN      NaN          NaN   \n",
       "\n",
       "     player_dismissed other_wicket_type other_player_dismissed  \n",
       "124               NaN               NaN                    NaN  \n",
       "125               NaN               NaN                    NaN  \n",
       "126               NaN               NaN                    NaN  \n",
       "127               NaN               NaN                    NaN  \n",
       "128               NaN               NaN                    NaN  \n",
       "\n",
       "[5 rows x 22 columns]"
      ]
     },
     "execution_count": 99,
     "metadata": {},
     "output_type": "execute_result"
    }
   ],
   "source": [
    "rcb=(df['batting_team']=='Royal Challengers Bangalore')\n",
    "df_rcb0=df[rcb]\n",
    "df_rcb0.head()\n"
   ]
  },
  {
   "cell_type": "code",
   "execution_count": 118,
   "id": "792f2484",
   "metadata": {},
   "outputs": [
    {
     "data": {
      "text/plain": [
       "<AxesSubplot:xlabel='Batsman out'>"
      ]
     },
     "execution_count": 118,
     "metadata": {},
     "output_type": "execute_result"
    },
    {
     "data": {
      "image/png": "[encoded data removed]",
      "text/plain": [
       "<Figure size 432x288 with 1 Axes>"
      ]
     },
     "metadata": {
      "needs_background": "light"
     },
     "output_type": "display_data"
    }
   ],
   "source": [
    "rcb_wins2=dfk[dfk['bowling_team']=='Royal Challengers Bangalore']['player_out'].value_counts().reset_index()\n",
    "rcb_wins2.rename(columns={'index':'Batsman out'},inplace=True)\n",
    "s12 =rcb_wins2.head(30)\n",
    "s12.plot.bar(x=\"Batsman out\")"
   ]
  },
  {
   "cell_type": "code",
   "execution_count": 135,
   "id": "109b9439",
   "metadata": {},
   "outputs": [
    {
     "data": {
      "text/plain": [
       "<AxesSubplot:xlabel='player_out'>"
      ]
     },
     "execution_count": 135,
     "metadata": {},
     "output_type": "execute_result"
    },
    {
     "data": {
      "image/png": "[encoded data removed]",
      "text/plain": [
       "<Figure size 432x288 with 1 Axes>"
      ]
     },
     "metadata": {
      "needs_background": "light"
     },
     "output_type": "display_data"
    }
   ],
   "source": [
    "\n",
    "temp1=pd.DataFrame({'player_out':dfk['player_out']})\n",
    "count_outs=temp1.value_counts()\n",
    "s13 =count_outs.head(15)\n",
    "s13.plot.bar()"
   ]
  },
  {
   "cell_type": "code",
   "execution_count": 3,
   "id": "67d2f97b",
   "metadata": {},
   "outputs": [],
   "source": [
    "import pandas as pd\n",
    "delivery = pd.read_csv(r\"C:./Desktop/ALL_2021_IPL_MATCHES_BALL_BY_BALL.csv\")\n",
    "sub_data11 = delivery.loc[:, ['batsman', 'batsman_run']]\n",
    "sub_data = sub_data11.groupby('batsman', as_index = False).sum()\n",
    "sub_data = sub_data.sort_values(by=['batsman_run'], ascending = False)\n",
    "batsman = sub_data['batsman'].tolist()\n",
    "runs = sub_data['batsman_run'].tolist()"
   ]
  },
  {
   "cell_type": "code",
   "execution_count": 5,
   "id": "68b1ae87",
   "metadata": {},
   "outputs": [],
   "source": [
    "sub_data14 = delivery.loc[:, ['batsman', 'bowler', 'elimination_kind']]\n",
    "dismissal_kinds = ['caught',\n",
    " 'bowled',\n",
    " 'run out',\n",
    " 'lbw',\n",
    " 'caught and bowled',\n",
    " 'stumped',\n",
    " 'hit wicket']\n",
    "is_bowler = (sub_data14['elimination_kind'] == 'bowled') | (sub_data14['elimination_kind'] == 'caught') | (sub_data14['elimination_kind'] == 'caught and bowled') | (sub_data14['elimination_kind'] == 'stumped') | (sub_data14['elimination_kind'] == 'lbw') | (sub_data14['elimination_kind'] == 'hit wicket')\n",
    "bowler_data = sub_data14[is_bowler].loc[:, ['bowler']]\n",
    "bowler = bowler_data['bowler'].value_counts().keys().tolist()\n",
    "wickets = bowler_data['bowler'].value_counts().tolist()"
   ]
  },
  {
   "cell_type": "code",
   "execution_count": 14,
   "id": "1f6fa81d",
   "metadata": {},
   "outputs": [
    {
     "data": {
      "text/html": [
       "<div>\n",
       "<style scoped>\n",
       "    .dataframe tbody tr th:only-of-type {\n",
       "        vertical-align: middle;\n",
       "    }\n",
       "\n",
       "    .dataframe tbody tr th {\n",
       "        vertical-align: top;\n",
       "    }\n",
       "\n",
       "    .dataframe thead th {\n",
       "        text-align: right;\n",
       "    }\n",
       "</style>\n",
       "<table border=\"1\" class=\"dataframe\">\n",
       "  <thead>\n",
       "    <tr style=\"text-align: right;\">\n",
       "      <th></th>\n",
       "      <th>Player</th>\n",
       "      <th>Wickets</th>\n",
       "    </tr>\n",
       "  </thead>\n",
       "  <tbody>\n",
       "    <tr>\n",
       "      <th>0</th>\n",
       "      <td>HV Patel</td>\n",
       "      <td>32</td>\n",
       "    </tr>\n",
       "    <tr>\n",
       "      <th>1</th>\n",
       "      <td>Avesh Khan</td>\n",
       "      <td>24</td>\n",
       "    </tr>\n",
       "    <tr>\n",
       "      <th>2</th>\n",
       "      <td>SN Thakur</td>\n",
       "      <td>21</td>\n",
       "    </tr>\n",
       "    <tr>\n",
       "      <th>3</th>\n",
       "      <td>JJ Bumrah</td>\n",
       "      <td>21</td>\n",
       "    </tr>\n",
       "    <tr>\n",
       "      <th>4</th>\n",
       "      <td>Mohammed Shami</td>\n",
       "      <td>19</td>\n",
       "    </tr>\n",
       "    <tr>\n",
       "      <th>5</th>\n",
       "      <td>CV Varun</td>\n",
       "      <td>18</td>\n",
       "    </tr>\n",
       "    <tr>\n",
       "      <th>6</th>\n",
       "      <td>Arshdeep Singh</td>\n",
       "      <td>18</td>\n",
       "    </tr>\n",
       "    <tr>\n",
       "      <th>7</th>\n",
       "      <td>YS Chahal</td>\n",
       "      <td>18</td>\n",
       "    </tr>\n",
       "    <tr>\n",
       "      <th>8</th>\n",
       "      <td>Rashid Khan</td>\n",
       "      <td>18</td>\n",
       "    </tr>\n",
       "    <tr>\n",
       "      <th>9</th>\n",
       "      <td>JO Holder</td>\n",
       "      <td>16</td>\n",
       "    </tr>\n",
       "  </tbody>\n",
       "</table>\n",
       "</div>"
      ],
      "text/plain": [
       "           Player  Wickets\n",
       "0        HV Patel       32\n",
       "1      Avesh Khan       24\n",
       "2       SN Thakur       21\n",
       "3       JJ Bumrah       21\n",
       "4  Mohammed Shami       19\n",
       "5        CV Varun       18\n",
       "6  Arshdeep Singh       18\n",
       "7       YS Chahal       18\n",
       "8     Rashid Khan       18\n",
       "9       JO Holder       16"
      ]
     },
     "execution_count": 14,
     "metadata": {},
     "output_type": "execute_result"
    }
   ],
   "source": [
    "d13 = {'Player':bowler,'Wickets':wickets}\n",
    "d23 = {'Player':batsman,'Runs':runs}\n",
    "df13 = pd.DataFrame(d13)\n",
    "df23 = pd.DataFrame(d23)\n",
    "dff=df13.head(10)\n",
    "dff"
   ]
  },
  {
   "cell_type": "code",
   "execution_count": 17,
   "id": "0dcae49b",
   "metadata": {},
   "outputs": [
    {
     "data": {
      "text/plain": [
       "<AxesSubplot:xlabel='Player'>"
      ]
     },
     "execution_count": 17,
     "metadata": {},
     "output_type": "execute_result"
    },
    {
     "data": {
      "image/png": "[encoded data removed]",
      "text/plain": [
       "<Figure size 432x288 with 1 Axes>"
      ]
     },
     "metadata": {
      "needs_background": "light"
     },
     "output_type": "display_data"
    }
   ],
   "source": [
    "dff.plot.bar(x='Player')"
   ]
  },
  {
   "cell_type": "code",
   "execution_count": 20,
   "id": "9d801c25",
   "metadata": {},
   "outputs": [],
   "source": [
    "sub_data14 = delivery.loc[:, ['batsman', 'bowling_team', 'elimination_kind']]\n",
    "dismissal_kinds = ['caught',\n",
    " 'bowled',\n",
    " 'run out',\n",
    " 'lbw',\n",
    " 'caught and bowled',\n",
    " 'stumped',\n",
    " 'hit wicket']\n",
    "is_bowler = (sub_data14['elimination_kind'] == 'bowled') | (sub_data14['elimination_kind'] == 'caught') | (sub_data14['elimination_kind'] == 'caught and bowled') | (sub_data14['elimination_kind'] == 'stumped') | (sub_data14['elimination_kind'] == 'lbw') | (sub_data14['elimination_kind'] == 'hit wicket')\n",
    "bowler_data = sub_data14[is_bowler].loc[:, ['bowling_team']]\n",
    "bowler = bowler_data['bowling_team'].value_counts().keys().tolist()\n",
    "wickets = bowler_data['bowling_team'].value_counts().tolist()"
   ]
  },
  {
   "cell_type": "code",
   "execution_count": 22,
   "id": "6f8d369d",
   "metadata": {},
   "outputs": [
    {
     "data": {
      "text/html": [
       "<div>\n",
       "<style scoped>\n",
       "    .dataframe tbody tr th:only-of-type {\n",
       "        vertical-align: middle;\n",
       "    }\n",
       "\n",
       "    .dataframe tbody tr th {\n",
       "        vertical-align: top;\n",
       "    }\n",
       "\n",
       "    .dataframe thead th {\n",
       "        text-align: right;\n",
       "    }\n",
       "</style>\n",
       "<table border=\"1\" class=\"dataframe\">\n",
       "  <thead>\n",
       "    <tr style=\"text-align: right;\">\n",
       "      <th></th>\n",
       "      <th>Teams</th>\n",
       "      <th>Wickets</th>\n",
       "    </tr>\n",
       "  </thead>\n",
       "  <tbody>\n",
       "    <tr>\n",
       "      <th>0</th>\n",
       "      <td>Kolkata Knight Riders</td>\n",
       "      <td>100</td>\n",
       "    </tr>\n",
       "    <tr>\n",
       "      <th>1</th>\n",
       "      <td>Delhi Capitals</td>\n",
       "      <td>96</td>\n",
       "    </tr>\n",
       "    <tr>\n",
       "      <th>2</th>\n",
       "      <td>Chennai Super Kings</td>\n",
       "      <td>96</td>\n",
       "    </tr>\n",
       "    <tr>\n",
       "      <th>3</th>\n",
       "      <td>Royal Challengers Bangalore</td>\n",
       "      <td>92</td>\n",
       "    </tr>\n",
       "    <tr>\n",
       "      <th>4</th>\n",
       "      <td>Mumbai Indians</td>\n",
       "      <td>77</td>\n",
       "    </tr>\n",
       "    <tr>\n",
       "      <th>5</th>\n",
       "      <td>Punjab Kings</td>\n",
       "      <td>75</td>\n",
       "    </tr>\n",
       "    <tr>\n",
       "      <th>6</th>\n",
       "      <td>Sunrisers Hyderabad</td>\n",
       "      <td>72</td>\n",
       "    </tr>\n",
       "    <tr>\n",
       "      <th>7</th>\n",
       "      <td>Rajasthan Royals</td>\n",
       "      <td>62</td>\n",
       "    </tr>\n",
       "  </tbody>\n",
       "</table>\n",
       "</div>"
      ],
      "text/plain": [
       "                         Teams  Wickets\n",
       "0        Kolkata Knight Riders      100\n",
       "1               Delhi Capitals       96\n",
       "2          Chennai Super Kings       96\n",
       "3  Royal Challengers Bangalore       92\n",
       "4               Mumbai Indians       77\n",
       "5                 Punjab Kings       75\n",
       "6          Sunrisers Hyderabad       72\n",
       "7             Rajasthan Royals       62"
      ]
     },
     "execution_count": 22,
     "metadata": {},
     "output_type": "execute_result"
    }
   ],
   "source": [
    "d1 = {'Teams':bowler,'Wickets':wickets}\n",
    "d2 = {'Teams':batsman,'Runs':runs}\n",
    "df1 = pd.DataFrame(d1)\n",
    "df2 = pd.DataFrame(d2)\n",
    "df1"
   ]
  },
  {
   "cell_type": "code",
   "execution_count": 23,
   "id": "2aacab23",
   "metadata": {},
   "outputs": [
    {
     "data": {
      "text/plain": [
       "<AxesSubplot:xlabel='Teams'>"
      ]
     },
     "execution_count": 23,
     "metadata": {},
     "output_type": "execute_result"
    },
    {
     "data": {
      "image/png": "[encoded data removed]",
      "text/plain": [
       "<Figure size 432x288 with 1 Axes>"
      ]
     },
     "metadata": {
      "needs_background": "light"
     },
     "output_type": "display_data"
    }
   ],
   "source": [
    "df1.plot.bar(x='Teams')#total wickets by each team in 2021"
   ]
  },
  {
   "cell_type": "code",
   "execution_count": 28,
   "id": "8cf14fe4",
   "metadata": {},
   "outputs": [],
   "source": [
    "import pandas as pd\n",
    "df = pd.read_csv(r\"C:./Desktop/ALL_2021_IPL_MATCHES_BALL_BY_BALL.csv\")\n",
    "rcb=(df['batting_team']=='Royal Challengers Bangalore')\n",
    "df_rcb0=df[rcb]\n",
    "\n",
    "delivery1 =df_rcb0\n",
    "sub_data12 = delivery1.loc[:, ['batsman', 'batsman_run']]\n",
    "sub_data = sub_data12.groupby('batsman', as_index = False).sum()\n",
    "sub_data = sub_data.sort_values(by=['batsman_run'], ascending = False)\n",
    "batsman = sub_data['batsman'].tolist()\n",
    "runs = sub_data['batsman_run'].tolist()"
   ]
  },
  {
   "cell_type": "code",
   "execution_count": 29,
   "id": "b29362ad",
   "metadata": {},
   "outputs": [],
   "source": [
    "sub_data14 = delivery1.loc[:, ['batsman', 'bowler', 'elimination_kind']]\n",
    "dismissal_kinds = ['caught',\n",
    " 'bowled',\n",
    " 'run out',\n",
    " 'lbw',\n",
    " 'caught and bowled',\n",
    " 'stumped',\n",
    " 'hit wicket']\n",
    "is_bowler = (sub_data14['elimination_kind'] == 'bowled') | (sub_data14['elimination_kind'] == 'caught') | (sub_data14['elimination_kind'] == 'caught and bowled') | (sub_data14['elimination_kind'] == 'stumped') | (sub_data14['elimination_kind'] == 'lbw') | (sub_data14['elimination_kind'] == 'hit wicket')\n",
    "bowler_data = sub_data14[is_bowler].loc[:, ['bowler']]\n",
    "bowler = bowler_data['bowler'].value_counts().keys().tolist()\n",
    "wickets = bowler_data['bowler'].value_counts().tolist()"
   ]
  },
  {
   "cell_type": "code",
   "execution_count": 47,
   "id": "dc5f3a2b",
   "metadata": {},
   "outputs": [
    {
     "data": {
      "text/plain": [
       "<AxesSubplot:xlabel='Teams'>"
      ]
     },
     "execution_count": 47,
     "metadata": {},
     "output_type": "execute_result"
    },
    {
     "data": {
      "image/png": "[encoded data removed]",
      "text/plain": [
       "<Figure size 432x288 with 1 Axes>"
      ]
     },
     "metadata": {
      "needs_background": "light"
     },
     "output_type": "display_data"
    },
    {
     "data": {
      "image/png": "[encoded data removed]",
      "text/plain": [
       "<Figure size 432x288 with 1 Axes>"
      ]
     },
     "metadata": {
      "needs_background": "light"
     },
     "output_type": "display_data"
    }
   ],
   "source": [
    "d17 = {'Bowlers_aganist_rcb':bowler,'Wickets':wickets}\n",
    "d27 = {'Rcb batsman':batsman,'Runs':runs}\n",
    "df17 = pd.DataFrame(d1)\n",
    "df27 = pd.DataFrame(d2)\n",
    "df17\n",
    "dfg=df17.head(10)\n",
    "dfg.plot.bar(x='Teams')\n",
    "dfh=df27.head(10)\n",
    "dfh.plot.bar(x='Teams')"
   ]
  },
  {
   "cell_type": "markdown",
   "id": "3aef5aa7",
   "metadata": {},
   "source": [
    "# CSK 2020 & 2021"
   ]
  },
  {
   "cell_type": "markdown",
   "id": "37098b73",
   "metadata": {},
   "source": [
    "# 2020 overall"
   ]
  },
  {
   "cell_type": "code",
   "execution_count": 50,
   "id": "7c52bd66",
   "metadata": {},
   "outputs": [
    {
     "name": "stderr",
     "output_type": "stream",
     "text": [
      "c:\\users\\karan\\appdata\\local\\programs\\python\\python39\\lib\\site-packages\\IPython\\core\\interactiveshell.py:3444: DtypeWarning: Columns (1) have mixed types.Specify dtype option on import or set low_memory=False.\n",
      "  exec(code_obj, self.user_global_ns, self.user_ns)\n"
     ]
    },
    {
     "data": {
      "text/html": [
       "<div>\n",
       "<style scoped>\n",
       "    .dataframe tbody tr th:only-of-type {\n",
       "        vertical-align: middle;\n",
       "    }\n",
       "\n",
       "    .dataframe tbody tr th {\n",
       "        vertical-align: top;\n",
       "    }\n",
       "\n",
       "    .dataframe thead th {\n",
       "        text-align: right;\n",
       "    }\n",
       "</style>\n",
       "<table border=\"1\" class=\"dataframe\">\n",
       "  <thead>\n",
       "    <tr style=\"text-align: right;\">\n",
       "      <th></th>\n",
       "      <th>match_id</th>\n",
       "      <th>season</th>\n",
       "      <th>start_date</th>\n",
       "      <th>venue</th>\n",
       "      <th>innings</th>\n",
       "      <th>ball</th>\n",
       "      <th>batting_team</th>\n",
       "      <th>bowling_team</th>\n",
       "      <th>striker</th>\n",
       "      <th>non_striker</th>\n",
       "      <th>...</th>\n",
       "      <th>extras</th>\n",
       "      <th>wides</th>\n",
       "      <th>noballs</th>\n",
       "      <th>byes</th>\n",
       "      <th>legbyes</th>\n",
       "      <th>penalty</th>\n",
       "      <th>wicket_type</th>\n",
       "      <th>player_dismissed</th>\n",
       "      <th>other_wicket_type</th>\n",
       "      <th>other_player_dismissed</th>\n",
       "    </tr>\n",
       "  </thead>\n",
       "  <tbody>\n",
       "    <tr>\n",
       "      <th>179058</th>\n",
       "      <td>1216492</td>\n",
       "      <td>2020/21</td>\n",
       "      <td>2020-09-19</td>\n",
       "      <td>Sheikh Zayed Stadium</td>\n",
       "      <td>1</td>\n",
       "      <td>0.1</td>\n",
       "      <td>Mumbai Indians</td>\n",
       "      <td>Chennai Super Kings</td>\n",
       "      <td>RG Sharma</td>\n",
       "      <td>Q de Kock</td>\n",
       "      <td>...</td>\n",
       "      <td>0</td>\n",
       "      <td>NaN</td>\n",
       "      <td>NaN</td>\n",
       "      <td>NaN</td>\n",
       "      <td>NaN</td>\n",
       "      <td>NaN</td>\n",
       "      <td>NaN</td>\n",
       "      <td>NaN</td>\n",
       "      <td>NaN</td>\n",
       "      <td>NaN</td>\n",
       "    </tr>\n",
       "    <tr>\n",
       "      <th>179059</th>\n",
       "      <td>1216492</td>\n",
       "      <td>2020/21</td>\n",
       "      <td>2020-09-19</td>\n",
       "      <td>Sheikh Zayed Stadium</td>\n",
       "      <td>1</td>\n",
       "      <td>0.2</td>\n",
       "      <td>Mumbai Indians</td>\n",
       "      <td>Chennai Super Kings</td>\n",
       "      <td>RG Sharma</td>\n",
       "      <td>Q de Kock</td>\n",
       "      <td>...</td>\n",
       "      <td>0</td>\n",
       "      <td>NaN</td>\n",
       "      <td>NaN</td>\n",
       "      <td>NaN</td>\n",
       "      <td>NaN</td>\n",
       "      <td>NaN</td>\n",
       "      <td>NaN</td>\n",
       "      <td>NaN</td>\n",
       "      <td>NaN</td>\n",
       "      <td>NaN</td>\n",
       "    </tr>\n",
       "    <tr>\n",
       "      <th>179060</th>\n",
       "      <td>1216492</td>\n",
       "      <td>2020/21</td>\n",
       "      <td>2020-09-19</td>\n",
       "      <td>Sheikh Zayed Stadium</td>\n",
       "      <td>1</td>\n",
       "      <td>0.3</td>\n",
       "      <td>Mumbai Indians</td>\n",
       "      <td>Chennai Super Kings</td>\n",
       "      <td>Q de Kock</td>\n",
       "      <td>RG Sharma</td>\n",
       "      <td>...</td>\n",
       "      <td>0</td>\n",
       "      <td>NaN</td>\n",
       "      <td>NaN</td>\n",
       "      <td>NaN</td>\n",
       "      <td>NaN</td>\n",
       "      <td>NaN</td>\n",
       "      <td>NaN</td>\n",
       "      <td>NaN</td>\n",
       "      <td>NaN</td>\n",
       "      <td>NaN</td>\n",
       "    </tr>\n",
       "    <tr>\n",
       "      <th>179061</th>\n",
       "      <td>1216492</td>\n",
       "      <td>2020/21</td>\n",
       "      <td>2020-09-19</td>\n",
       "      <td>Sheikh Zayed Stadium</td>\n",
       "      <td>1</td>\n",
       "      <td>0.4</td>\n",
       "      <td>Mumbai Indians</td>\n",
       "      <td>Chennai Super Kings</td>\n",
       "      <td>Q de Kock</td>\n",
       "      <td>RG Sharma</td>\n",
       "      <td>...</td>\n",
       "      <td>0</td>\n",
       "      <td>NaN</td>\n",
       "      <td>NaN</td>\n",
       "      <td>NaN</td>\n",
       "      <td>NaN</td>\n",
       "      <td>NaN</td>\n",
       "      <td>NaN</td>\n",
       "      <td>NaN</td>\n",
       "      <td>NaN</td>\n",
       "      <td>NaN</td>\n",
       "    </tr>\n",
       "    <tr>\n",
       "      <th>179062</th>\n",
       "      <td>1216492</td>\n",
       "      <td>2020/21</td>\n",
       "      <td>2020-09-19</td>\n",
       "      <td>Sheikh Zayed Stadium</td>\n",
       "      <td>1</td>\n",
       "      <td>0.5</td>\n",
       "      <td>Mumbai Indians</td>\n",
       "      <td>Chennai Super Kings</td>\n",
       "      <td>Q de Kock</td>\n",
       "      <td>RG Sharma</td>\n",
       "      <td>...</td>\n",
       "      <td>0</td>\n",
       "      <td>NaN</td>\n",
       "      <td>NaN</td>\n",
       "      <td>NaN</td>\n",
       "      <td>NaN</td>\n",
       "      <td>NaN</td>\n",
       "      <td>NaN</td>\n",
       "      <td>NaN</td>\n",
       "      <td>NaN</td>\n",
       "      <td>NaN</td>\n",
       "    </tr>\n",
       "  </tbody>\n",
       "</table>\n",
       "<p>5 rows × 22 columns</p>\n",
       "</div>"
      ],
      "text/plain": [
       "        match_id   season  start_date                 venue  innings  ball  \\\n",
       "179058   1216492  2020/21  2020-09-19  Sheikh Zayed Stadium        1   0.1   \n",
       "179059   1216492  2020/21  2020-09-19  Sheikh Zayed Stadium        1   0.2   \n",
       "179060   1216492  2020/21  2020-09-19  Sheikh Zayed Stadium        1   0.3   \n",
       "179061   1216492  2020/21  2020-09-19  Sheikh Zayed Stadium        1   0.4   \n",
       "179062   1216492  2020/21  2020-09-19  Sheikh Zayed Stadium        1   0.5   \n",
       "\n",
       "          batting_team         bowling_team    striker non_striker  ...  \\\n",
       "179058  Mumbai Indians  Chennai Super Kings  RG Sharma   Q de Kock  ...   \n",
       "179059  Mumbai Indians  Chennai Super Kings  RG Sharma   Q de Kock  ...   \n",
       "179060  Mumbai Indians  Chennai Super Kings  Q de Kock   RG Sharma  ...   \n",
       "179061  Mumbai Indians  Chennai Super Kings  Q de Kock   RG Sharma  ...   \n",
       "179062  Mumbai Indians  Chennai Super Kings  Q de Kock   RG Sharma  ...   \n",
       "\n",
       "       extras  wides  noballs  byes  legbyes  penalty  wicket_type  \\\n",
       "179058      0    NaN      NaN   NaN      NaN      NaN          NaN   \n",
       "179059      0    NaN      NaN   NaN      NaN      NaN          NaN   \n",
       "179060      0    NaN      NaN   NaN      NaN      NaN          NaN   \n",
       "179061      0    NaN      NaN   NaN      NaN      NaN          NaN   \n",
       "179062      0    NaN      NaN   NaN      NaN      NaN          NaN   \n",
       "\n",
       "        player_dismissed other_wicket_type other_player_dismissed  \n",
       "179058               NaN               NaN                    NaN  \n",
       "179059               NaN               NaN                    NaN  \n",
       "179060               NaN               NaN                    NaN  \n",
       "179061               NaN               NaN                    NaN  \n",
       "179062               NaN               NaN                    NaN  \n",
       "\n",
       "[5 rows x 22 columns]"
      ]
     },
     "execution_count": 50,
     "metadata": {},
     "output_type": "execute_result"
    }
   ],
   "source": [
    "\n",
    "df= pd.read_csv(r\"C:./Desktop/all_matches.csv\")\n",
    "csk=(df['season']=='2020/21')\n",
    "df_csk0=df[csk]\n",
    "df_csk0.head()"
   ]
  },
  {
   "cell_type": "code",
   "execution_count": 51,
   "id": "025e08f9",
   "metadata": {},
   "outputs": [
    {
     "data": {
      "text/html": [
       "<div>\n",
       "<style scoped>\n",
       "    .dataframe tbody tr th:only-of-type {\n",
       "        vertical-align: middle;\n",
       "    }\n",
       "\n",
       "    .dataframe tbody tr th {\n",
       "        vertical-align: top;\n",
       "    }\n",
       "\n",
       "    .dataframe thead th {\n",
       "        text-align: right;\n",
       "    }\n",
       "</style>\n",
       "<table border=\"1\" class=\"dataframe\">\n",
       "  <thead>\n",
       "    <tr style=\"text-align: right;\">\n",
       "      <th></th>\n",
       "      <th>Batting team</th>\n",
       "      <th>Runs</th>\n",
       "    </tr>\n",
       "  </thead>\n",
       "  <tbody>\n",
       "    <tr>\n",
       "      <th>4</th>\n",
       "      <td>Mumbai Indians</td>\n",
       "      <td>2662</td>\n",
       "    </tr>\n",
       "    <tr>\n",
       "      <th>1</th>\n",
       "      <td>Delhi Capitals</td>\n",
       "      <td>2658</td>\n",
       "    </tr>\n",
       "    <tr>\n",
       "      <th>7</th>\n",
       "      <td>Sunrisers Hyderabad</td>\n",
       "      <td>2397</td>\n",
       "    </tr>\n",
       "    <tr>\n",
       "      <th>2</th>\n",
       "      <td>Kings XI Punjab</td>\n",
       "      <td>2264</td>\n",
       "    </tr>\n",
       "    <tr>\n",
       "      <th>5</th>\n",
       "      <td>Rajasthan Royals</td>\n",
       "      <td>2197</td>\n",
       "    </tr>\n",
       "    <tr>\n",
       "      <th>6</th>\n",
       "      <td>Royal Challengers Bangalore</td>\n",
       "      <td>2169</td>\n",
       "    </tr>\n",
       "    <tr>\n",
       "      <th>3</th>\n",
       "      <td>Kolkata Knight Riders</td>\n",
       "      <td>2124</td>\n",
       "    </tr>\n",
       "    <tr>\n",
       "      <th>0</th>\n",
       "      <td>Chennai Super Kings</td>\n",
       "      <td>2095</td>\n",
       "    </tr>\n",
       "  </tbody>\n",
       "</table>\n",
       "</div>"
      ],
      "text/plain": [
       "                  Batting team  Runs\n",
       "4               Mumbai Indians  2662\n",
       "1               Delhi Capitals  2658\n",
       "7          Sunrisers Hyderabad  2397\n",
       "2              Kings XI Punjab  2264\n",
       "5             Rajasthan Royals  2197\n",
       "6  Royal Challengers Bangalore  2169\n",
       "3        Kolkata Knight Riders  2124\n",
       "0          Chennai Super Kings  2095"
      ]
     },
     "execution_count": 51,
     "metadata": {},
     "output_type": "execute_result"
    }
   ],
   "source": [
    "runs1 = df_csk0.groupby(['batting_team'])['runs_off_bat'].sum().reset_index()\n",
    "runs1.columns=['Batting team','Runs']\n",
    "y = runs1.sort_values(by='Runs',ascending=False ).head(20)\n",
    "y"
   ]
  },
  {
   "cell_type": "code",
   "execution_count": 54,
   "id": "d2491d2f",
   "metadata": {},
   "outputs": [
    {
     "data": {
      "text/plain": [
       "Text(0.5, 1.0, 'Total Runs scored by all Teams in 2020')"
      ]
     },
     "execution_count": 54,
     "metadata": {},
     "output_type": "execute_result"
    },
    {
     "data": {
      "image/png": "[encoded data removed]",
      "text/plain": [
       "<Figure size 432x288 with 1 Axes>"
      ]
     },
     "metadata": {
      "needs_background": "light"
     },
     "output_type": "display_data"
    }
   ],
   "source": [
    "import matplotlib.pyplot as plt\n",
    "import seaborn as sns\n",
    "ax = plt.axes()\n",
    "sns.barplot(x=y['Batting team'],y=y['Runs'],palette='rocket',saturation=1)\n",
    "plt.xticks(rotation=90,fontsize=10)\n",
    "plt.yticks(fontsize=10)\n",
    "plt.xlabel('\\n All teams')\n",
    "plt.ylabel('Total Runs')\n",
    "plt.title('Total Runs scored by all Teams in 2020')"
   ]
  },
  {
   "cell_type": "code",
   "execution_count": 64,
   "id": "20f8ca1e",
   "metadata": {},
   "outputs": [
    {
     "data": {
      "text/plain": [
       "<AxesSubplot:xlabel='striker'>"
      ]
     },
     "execution_count": 64,
     "metadata": {},
     "output_type": "execute_result"
    },
    {
     "data": {
      "image/png": "[encoded data removed]",
      "text/plain": [
       "<Figure size 432x288 with 1 Axes>"
      ]
     },
     "metadata": {
      "needs_background": "light"
     },
     "output_type": "display_data"
    }
   ],
   "source": [
    "#top 10 run scorers in 2020 \n",
    "runs1 = df_csk0.groupby(['striker'])['runs_off_bat'].sum().reset_index()\n",
    "runs1.columns=['striker','Runs']\n",
    "y = runs1.sort_values(by='Runs',ascending=False ).head(10)\n",
    "y.plot.bar(x='striker')"
   ]
  },
  {
   "cell_type": "code",
   "execution_count": 67,
   "id": "bfe306a4",
   "metadata": {},
   "outputs": [],
   "source": [
    "sub_data14 = df_csk0.loc[:, ['striker', 'bowler', 'wicket_type']]\n",
    "dismissal_kinds = ['caught',\n",
    " 'bowled',\n",
    " 'run out',\n",
    " 'lbw',\n",
    " 'caught and bowled',\n",
    " 'stumped',\n",
    " 'hit wicket']\n",
    "is_bowler = (sub_data14['wicket_type'] == 'bowled') | (sub_data14['wicket_type'] == 'caught') | (sub_data14['wicket_type'] == 'caught and bowled') | (sub_data14['wicket_type'] == 'stumped') | (sub_data14['wicket_type'] == 'lbw') | (sub_data14['wicket_type'] == 'hit wicket')\n",
    "bowler_data = sub_data14[is_bowler].loc[:, ['bowler']]\n",
    "bowler = bowler_data['bowler'].value_counts().keys().tolist()\n",
    "wickets = bowler_data['bowler'].value_counts().tolist()"
   ]
  },
  {
   "cell_type": "code",
   "execution_count": 72,
   "id": "d03a14d4",
   "metadata": {},
   "outputs": [
    {
     "data": {
      "text/plain": [
       "<AxesSubplot:xlabel='Bowlers'>"
      ]
     },
     "execution_count": 72,
     "metadata": {},
     "output_type": "execute_result"
    },
    {
     "data": {
      "image/png": "[encoded data removed]",
      "text/plain": [
       "<Figure size 432x288 with 1 Axes>"
      ]
     },
     "metadata": {
      "needs_background": "light"
     },
     "output_type": "display_data"
    }
   ],
   "source": [
    "d1 = {'Bowlers':bowler,'Wickets':wickets}\n",
    "d2 = {'Bowlers':batsman,'Runs':runs}\n",
    "df1 = pd.DataFrame(d1)\n",
    "df2 = pd.DataFrame(d2)\n",
    "df1\n",
    "dfg=df1.head(10)\n",
    "dfg.plot.bar(x='Bowlers')"
   ]
  },
  {
   "cell_type": "code",
   "execution_count": 74,
   "id": "7c9afdb8",
   "metadata": {},
   "outputs": [],
   "source": [
    "sub_data14 = df_csk0.loc[:, ['striker', 'bowling_team', 'wicket_type']]\n",
    "dismissal_kinds = ['caught',\n",
    " 'bowled',\n",
    " 'run out',\n",
    " 'lbw',\n",
    " 'caught and bowled',\n",
    " 'stumped',\n",
    " 'hit wicket']\n",
    "is_bowler = (sub_data14['wicket_type'] == 'bowled') | (sub_data14['wicket_type'] == 'caught') | (sub_data14['wicket_type'] == 'caught and bowled') | (sub_data14['wicket_type'] == 'stumped') | (sub_data14['wicket_type'] == 'lbw') | (sub_data14['wicket_type'] == 'hit wicket')\n",
    "bowler_data = sub_data14[is_bowler].loc[:, ['bowling_team']]\n",
    "bowler = bowler_data['bowling_team'].value_counts().keys().tolist()\n",
    "wickets = bowler_data['bowling_team'].value_counts().tolist()"
   ]
  },
  {
   "cell_type": "code",
   "execution_count": 78,
   "id": "f6445dc0",
   "metadata": {},
   "outputs": [
    {
     "data": {
      "text/plain": [
       "<AxesSubplot:xlabel='bowling_team'>"
      ]
     },
     "execution_count": 78,
     "metadata": {},
     "output_type": "execute_result"
    },
    {
     "data": {
      "image/png": "[encoded data removed]",
      "text/plain": [
       "<Figure size 432x288 with 1 Axes>"
      ]
     },
     "metadata": {
      "needs_background": "light"
     },
     "output_type": "display_data"
    }
   ],
   "source": [
    "d1 = {'bowling_team':bowler,'Wickets':wickets}\n",
    "df1 = pd.DataFrame(d1)\n",
    "dfg=df1.head(10)\n",
    "dfg.plot.bar(x='bowling_team')"
   ]
  },
  {
   "cell_type": "code",
   "execution_count": 81,
   "id": "2b60c78c",
   "metadata": {},
   "outputs": [
    {
     "data": {
      "text/plain": [
       "<AxesSubplot:xlabel='Bowling team'>"
      ]
     },
     "execution_count": 81,
     "metadata": {},
     "output_type": "execute_result"
    },
    {
     "data": {
      "image/png": "[encoded data removed]",
      "text/plain": [
       "<Figure size 432x288 with 1 Axes>"
      ]
     },
     "metadata": {
      "needs_background": "light"
     },
     "output_type": "display_data"
    }
   ],
   "source": [
    "##Most runs concieved\n",
    "runs1 = df_csk0.groupby(['bowling_team'])['runs_off_bat'].sum().reset_index()\n",
    "runs1.columns=['Bowling team','Runs']\n",
    "y = runs1.sort_values(by='Runs',ascending=False ).head(20)\n",
    "y#runs against all teams\n",
    "y.plot.bar(x='Bowling team')"
   ]
  },
  {
   "cell_type": "code",
   "execution_count": 82,
   "id": "051b28c3",
   "metadata": {},
   "outputs": [
    {
     "data": {
      "text/plain": [
       "<AxesSubplot:xlabel='Bowling team'>"
      ]
     },
     "execution_count": 82,
     "metadata": {},
     "output_type": "execute_result"
    },
    {
     "data": {
      "image/png": "[encoded data removed]",
      "text/plain": [
       "<Figure size 432x288 with 1 Axes>"
      ]
     },
     "metadata": {
      "needs_background": "light"
     },
     "output_type": "display_data"
    }
   ],
   "source": [
    "runs1 = df_csk0.groupby(['bowling_team'])['extras'].sum().reset_index()\n",
    "runs1.columns=['Bowling team','Runs']\n",
    "y = runs1.sort_values(by='Runs',ascending=False ).head(20)\n",
    "y#top extras by all teams\n",
    "y.plot.bar(x='Bowling team')"
   ]
  },
  {
   "cell_type": "code",
   "execution_count": 92,
   "id": "5d9f2cb9",
   "metadata": {},
   "outputs": [
    {
     "data": {
      "image/png": "[encoded data removed]",
      "text/plain": [
       "<Figure size 432x288 with 1 Axes>"
      ]
     },
     "metadata": {
      "needs_background": "light"
     },
     "output_type": "display_data"
    }
   ],
   "source": [
    "def barplot(x_axis, y_axis, plot_data, title, x_label, y_label):\n",
    "    \"\"\"Bar plot using seaborn library\"\"\"\n",
    "    plot = sns.barplot(x=x_axis, y=y_axis, data=plot_data)\n",
    "    plot.set(xlabel=x_label, ylabel=y_label)\n",
    "    plot.set_title(title)\n",
    "    plt.xticks(rotation=90)\n",
    "    plt.show()\n",
    "    #number of 4s and 6s scored boundaries scored in each season\n",
    "boundaries_per_season = df_csk0[(df_csk0['runs_off_bat']==4) | (df_csk0['runs_off_bat']==6)].groupby(['batting_team'])['runs_off_bat'].count().reset_index()\n",
    "#barplot\n",
    "barplot('batting_team', 'runs_off_bat', boundaries_per_season, 'Number of boundaries scored in 2020',\n",
    "        'batting_team', 'Number of Boundaries')"
   ]
  },
  {
   "cell_type": "markdown",
   "id": "1aa7f591",
   "metadata": {},
   "source": [
    "# As a batting team CSK performance in 2020"
   ]
  },
  {
   "cell_type": "code",
   "execution_count": 105,
   "id": "1b657740",
   "metadata": {},
   "outputs": [
    {
     "data": {
      "text/html": [
       "<div>\n",
       "<style scoped>\n",
       "    .dataframe tbody tr th:only-of-type {\n",
       "        vertical-align: middle;\n",
       "    }\n",
       "\n",
       "    .dataframe tbody tr th {\n",
       "        vertical-align: top;\n",
       "    }\n",
       "\n",
       "    .dataframe thead th {\n",
       "        text-align: right;\n",
       "    }\n",
       "</style>\n",
       "<table border=\"1\" class=\"dataframe\">\n",
       "  <thead>\n",
       "    <tr style=\"text-align: right;\">\n",
       "      <th></th>\n",
       "      <th>match_id</th>\n",
       "      <th>season</th>\n",
       "      <th>start_date</th>\n",
       "      <th>venue</th>\n",
       "      <th>innings</th>\n",
       "      <th>ball</th>\n",
       "      <th>batting_team</th>\n",
       "      <th>bowling_team</th>\n",
       "      <th>striker</th>\n",
       "      <th>non_striker</th>\n",
       "      <th>...</th>\n",
       "      <th>extras</th>\n",
       "      <th>wides</th>\n",
       "      <th>noballs</th>\n",
       "      <th>byes</th>\n",
       "      <th>legbyes</th>\n",
       "      <th>penalty</th>\n",
       "      <th>wicket_type</th>\n",
       "      <th>player_dismissed</th>\n",
       "      <th>other_wicket_type</th>\n",
       "      <th>other_player_dismissed</th>\n",
       "    </tr>\n",
       "  </thead>\n",
       "  <tbody>\n",
       "    <tr>\n",
       "      <th>179182</th>\n",
       "      <td>1216492</td>\n",
       "      <td>2020/21</td>\n",
       "      <td>2020-09-19</td>\n",
       "      <td>Sheikh Zayed Stadium</td>\n",
       "      <td>2</td>\n",
       "      <td>0.1</td>\n",
       "      <td>Chennai Super Kings</td>\n",
       "      <td>Mumbai Indians</td>\n",
       "      <td>M Vijay</td>\n",
       "      <td>SR Watson</td>\n",
       "      <td>...</td>\n",
       "      <td>0</td>\n",
       "      <td>NaN</td>\n",
       "      <td>NaN</td>\n",
       "      <td>NaN</td>\n",
       "      <td>NaN</td>\n",
       "      <td>NaN</td>\n",
       "      <td>NaN</td>\n",
       "      <td>NaN</td>\n",
       "      <td>NaN</td>\n",
       "      <td>NaN</td>\n",
       "    </tr>\n",
       "    <tr>\n",
       "      <th>179183</th>\n",
       "      <td>1216492</td>\n",
       "      <td>2020/21</td>\n",
       "      <td>2020-09-19</td>\n",
       "      <td>Sheikh Zayed Stadium</td>\n",
       "      <td>2</td>\n",
       "      <td>0.2</td>\n",
       "      <td>Chennai Super Kings</td>\n",
       "      <td>Mumbai Indians</td>\n",
       "      <td>SR Watson</td>\n",
       "      <td>M Vijay</td>\n",
       "      <td>...</td>\n",
       "      <td>0</td>\n",
       "      <td>NaN</td>\n",
       "      <td>NaN</td>\n",
       "      <td>NaN</td>\n",
       "      <td>NaN</td>\n",
       "      <td>NaN</td>\n",
       "      <td>NaN</td>\n",
       "      <td>NaN</td>\n",
       "      <td>NaN</td>\n",
       "      <td>NaN</td>\n",
       "    </tr>\n",
       "    <tr>\n",
       "      <th>179184</th>\n",
       "      <td>1216492</td>\n",
       "      <td>2020/21</td>\n",
       "      <td>2020-09-19</td>\n",
       "      <td>Sheikh Zayed Stadium</td>\n",
       "      <td>2</td>\n",
       "      <td>0.3</td>\n",
       "      <td>Chennai Super Kings</td>\n",
       "      <td>Mumbai Indians</td>\n",
       "      <td>SR Watson</td>\n",
       "      <td>M Vijay</td>\n",
       "      <td>...</td>\n",
       "      <td>0</td>\n",
       "      <td>NaN</td>\n",
       "      <td>NaN</td>\n",
       "      <td>NaN</td>\n",
       "      <td>NaN</td>\n",
       "      <td>NaN</td>\n",
       "      <td>NaN</td>\n",
       "      <td>NaN</td>\n",
       "      <td>NaN</td>\n",
       "      <td>NaN</td>\n",
       "    </tr>\n",
       "    <tr>\n",
       "      <th>179185</th>\n",
       "      <td>1216492</td>\n",
       "      <td>2020/21</td>\n",
       "      <td>2020-09-19</td>\n",
       "      <td>Sheikh Zayed Stadium</td>\n",
       "      <td>2</td>\n",
       "      <td>0.4</td>\n",
       "      <td>Chennai Super Kings</td>\n",
       "      <td>Mumbai Indians</td>\n",
       "      <td>SR Watson</td>\n",
       "      <td>M Vijay</td>\n",
       "      <td>...</td>\n",
       "      <td>0</td>\n",
       "      <td>NaN</td>\n",
       "      <td>NaN</td>\n",
       "      <td>NaN</td>\n",
       "      <td>NaN</td>\n",
       "      <td>NaN</td>\n",
       "      <td>NaN</td>\n",
       "      <td>NaN</td>\n",
       "      <td>NaN</td>\n",
       "      <td>NaN</td>\n",
       "    </tr>\n",
       "    <tr>\n",
       "      <th>179186</th>\n",
       "      <td>1216492</td>\n",
       "      <td>2020/21</td>\n",
       "      <td>2020-09-19</td>\n",
       "      <td>Sheikh Zayed Stadium</td>\n",
       "      <td>2</td>\n",
       "      <td>0.5</td>\n",
       "      <td>Chennai Super Kings</td>\n",
       "      <td>Mumbai Indians</td>\n",
       "      <td>SR Watson</td>\n",
       "      <td>M Vijay</td>\n",
       "      <td>...</td>\n",
       "      <td>0</td>\n",
       "      <td>NaN</td>\n",
       "      <td>NaN</td>\n",
       "      <td>NaN</td>\n",
       "      <td>NaN</td>\n",
       "      <td>NaN</td>\n",
       "      <td>NaN</td>\n",
       "      <td>NaN</td>\n",
       "      <td>NaN</td>\n",
       "      <td>NaN</td>\n",
       "    </tr>\n",
       "  </tbody>\n",
       "</table>\n",
       "<p>5 rows × 22 columns</p>\n",
       "</div>"
      ],
      "text/plain": [
       "        match_id   season  start_date                 venue  innings  ball  \\\n",
       "179182   1216492  2020/21  2020-09-19  Sheikh Zayed Stadium        2   0.1   \n",
       "179183   1216492  2020/21  2020-09-19  Sheikh Zayed Stadium        2   0.2   \n",
       "179184   1216492  2020/21  2020-09-19  Sheikh Zayed Stadium        2   0.3   \n",
       "179185   1216492  2020/21  2020-09-19  Sheikh Zayed Stadium        2   0.4   \n",
       "179186   1216492  2020/21  2020-09-19  Sheikh Zayed Stadium        2   0.5   \n",
       "\n",
       "               batting_team    bowling_team    striker non_striker  ...  \\\n",
       "179182  Chennai Super Kings  Mumbai Indians    M Vijay   SR Watson  ...   \n",
       "179183  Chennai Super Kings  Mumbai Indians  SR Watson     M Vijay  ...   \n",
       "179184  Chennai Super Kings  Mumbai Indians  SR Watson     M Vijay  ...   \n",
       "179185  Chennai Super Kings  Mumbai Indians  SR Watson     M Vijay  ...   \n",
       "179186  Chennai Super Kings  Mumbai Indians  SR Watson     M Vijay  ...   \n",
       "\n",
       "       extras  wides  noballs  byes  legbyes  penalty  wicket_type  \\\n",
       "179182      0    NaN      NaN   NaN      NaN      NaN          NaN   \n",
       "179183      0    NaN      NaN   NaN      NaN      NaN          NaN   \n",
       "179184      0    NaN      NaN   NaN      NaN      NaN          NaN   \n",
       "179185      0    NaN      NaN   NaN      NaN      NaN          NaN   \n",
       "179186      0    NaN      NaN   NaN      NaN      NaN          NaN   \n",
       "\n",
       "        player_dismissed other_wicket_type other_player_dismissed  \n",
       "179182               NaN               NaN                    NaN  \n",
       "179183               NaN               NaN                    NaN  \n",
       "179184               NaN               NaN                    NaN  \n",
       "179185               NaN               NaN                    NaN  \n",
       "179186               NaN               NaN                    NaN  \n",
       "\n",
       "[5 rows x 22 columns]"
      ]
     },
     "execution_count": 105,
     "metadata": {},
     "output_type": "execute_result"
    }
   ],
   "source": [
    "df= pd.read_csv(r\"C:./Desktop/all_matches.csv\")\n",
    "csk=(df['season']=='2020/21')\n",
    "df_csk9=df[csk]\n",
    "\n",
    "cskb=(df_csk9['batting_team']=='Chennai Super Kings')\n",
    "df_csk10=df_csk9[cskb]\n",
    "df_csk10.head()# matches by csk in 2020 as batting team"
   ]
  },
  {
   "cell_type": "code",
   "execution_count": 106,
   "id": "483a4ceb",
   "metadata": {},
   "outputs": [
    {
     "data": {
      "text/plain": [
       "<AxesSubplot:xlabel='striker'>"
      ]
     },
     "execution_count": 106,
     "metadata": {},
     "output_type": "execute_result"
    },
    {
     "data": {
      "image/png": "[encoded data removed]",
      "text/plain": [
       "<Figure size 432x288 with 1 Axes>"
      ]
     },
     "metadata": {
      "needs_background": "light"
     },
     "output_type": "display_data"
    }
   ],
   "source": [
    "#top 10 run scorers in 2020 \n",
    "runs1 = df_csk10.groupby(['striker'])['runs_off_bat'].sum().reset_index()\n",
    "runs1.columns=['striker','Runs']\n",
    "y = runs1.sort_values(by='Runs',ascending=False ).head(10)\n",
    "y.plot.bar(x='striker')"
   ]
  },
  {
   "cell_type": "code",
   "execution_count": 111,
   "id": "8669ca77",
   "metadata": {},
   "outputs": [
    {
     "data": {
      "text/plain": [
       "<AxesSubplot:xlabel='bowling_team'>"
      ]
     },
     "execution_count": 111,
     "metadata": {},
     "output_type": "execute_result"
    },
    {
     "data": {
      "image/png": "[encoded data removed]",
      "text/plain": [
       "<Figure size 432x288 with 1 Axes>"
      ]
     },
     "metadata": {
      "needs_background": "light"
     },
     "output_type": "display_data"
    }
   ],
   "source": [
    "#Most wickets against teams\n",
    "sub_data14 = df_csk10.loc[:, ['striker', 'bowling_team', 'wicket_type']]\n",
    "dismissal_kinds = ['caught',\n",
    " 'bowled',\n",
    " 'run out',\n",
    " 'lbw',\n",
    " 'caught and bowled',\n",
    " 'stumped',\n",
    " 'hit wicket']\n",
    "is_bowler = (sub_data14['wicket_type'] == 'bowled') | (sub_data14['wicket_type'] == 'caught') | (sub_data14['wicket_type'] == 'caught and bowled') | (sub_data14['wicket_type'] == 'stumped') | (sub_data14['wicket_type'] == 'lbw') | (sub_data14['wicket_type'] == 'hit wicket')\n",
    "bowler_data = sub_data14[is_bowler].loc[:, ['bowling_team']]\n",
    "bowler = bowler_data['bowling_team'].value_counts().keys().tolist()\n",
    "wickets = bowler_data['bowling_team'].value_counts().tolist()\n",
    "d1 = {'bowling_team':bowler,'Wickets':wickets}\n",
    "df1 = pd.DataFrame(d1)\n",
    "dfg=df1.head(10)\n",
    "dfg.plot.bar(x='bowling_team')"
   ]
  },
  {
   "cell_type": "code",
   "execution_count": 112,
   "id": "81333e72",
   "metadata": {},
   "outputs": [
    {
     "data": {
      "text/plain": [
       "<AxesSubplot:xlabel='bowling_team'>"
      ]
     },
     "execution_count": 112,
     "metadata": {},
     "output_type": "execute_result"
    },
    {
     "data": {
      "image/png": "[encoded data removed]",
      "text/plain": [
       "<Figure size 432x288 with 1 Axes>"
      ]
     },
     "metadata": {
      "needs_background": "light"
     },
     "output_type": "display_data"
    }
   ],
   "source": [
    "#top runs by csk  in 2020\n",
    "runs1 = df_csk10.groupby(['bowling_team'])['runs_off_bat'].sum().reset_index()\n",
    "runs1.columns=['bowling_team','Runs']\n",
    "y = runs1.sort_values(by='Runs',ascending=False ).head(10)\n",
    "y.plot.bar(x='bowling_team')"
   ]
  },
  {
   "cell_type": "code",
   "execution_count": 115,
   "id": "12b0e8cc",
   "metadata": {},
   "outputs": [
    {
     "data": {
      "image/png": "[encoded data removed]",
      "text/plain": [
       "<Figure size 432x288 with 1 Axes>"
      ]
     },
     "metadata": {
      "needs_background": "light"
     },
     "output_type": "display_data"
    }
   ],
   "source": [
    "def barplot(x_axis, y_axis, plot_data, title, x_label, y_label):\n",
    "    \"\"\"Bar plot using seaborn library\"\"\"\n",
    "    plot = sns.barplot(x=x_axis, y=y_axis, data=plot_data)\n",
    "    plot.set(xlabel=x_label, ylabel=y_label)\n",
    "    plot.set_title(title)\n",
    "    plt.xticks(rotation=90)\n",
    "    plt.show()\n",
    "    #number of 4s and 6s scored boundaries scored in each season\n",
    "boundaries_per_season = df_csk10[(df_csk10['runs_off_bat']==4) | (df_csk10['runs_off_bat']==6)].groupby(['bowling_team'])['runs_off_bat'].count().reset_index()\n",
    "#barplot\n",
    "barplot('bowling_team', 'runs_off_bat', boundaries_per_season, 'Number of boundaries scored in 2020 by CSK',\n",
    "        'bowling_team', 'Number of Boundaries')"
   ]
  },
  {
   "cell_type": "code",
   "execution_count": 117,
   "id": "4682dcfd",
   "metadata": {},
   "outputs": [
    {
     "data": {
      "image/png": "[encoded data removed]",
      "text/plain": [
       "<Figure size 1008x576 with 1 Axes>"
      ]
     },
     "metadata": {},
     "output_type": "display_data"
    }
   ],
   "source": [
    "#batsman are out by wicket types-\n",
    "df_csk10['wicket_type'].value_counts().plot.pie(autopct='%1.1f%%',figsize=(14,8),shadow=True,rotatelabels=True)\n",
    "plt.title('wicket type')\n",
    "plt.show()"
   ]
  },
  {
   "cell_type": "markdown",
   "id": "45bb5bd3",
   "metadata": {},
   "source": [
    "# As a bowling team CSK in 2020"
   ]
  },
  {
   "cell_type": "code",
   "execution_count": 119,
   "id": "747a4223",
   "metadata": {},
   "outputs": [
    {
     "name": "stderr",
     "output_type": "stream",
     "text": [
      "c:\\users\\karan\\appdata\\local\\programs\\python\\python39\\lib\\site-packages\\IPython\\core\\interactiveshell.py:3444: DtypeWarning: Columns (1) have mixed types.Specify dtype option on import or set low_memory=False.\n",
      "  exec(code_obj, self.user_global_ns, self.user_ns)\n"
     ]
    },
    {
     "data": {
      "text/html": [
       "<div>\n",
       "<style scoped>\n",
       "    .dataframe tbody tr th:only-of-type {\n",
       "        vertical-align: middle;\n",
       "    }\n",
       "\n",
       "    .dataframe tbody tr th {\n",
       "        vertical-align: top;\n",
       "    }\n",
       "\n",
       "    .dataframe thead th {\n",
       "        text-align: right;\n",
       "    }\n",
       "</style>\n",
       "<table border=\"1\" class=\"dataframe\">\n",
       "  <thead>\n",
       "    <tr style=\"text-align: right;\">\n",
       "      <th></th>\n",
       "      <th>match_id</th>\n",
       "      <th>season</th>\n",
       "      <th>start_date</th>\n",
       "      <th>venue</th>\n",
       "      <th>innings</th>\n",
       "      <th>ball</th>\n",
       "      <th>batting_team</th>\n",
       "      <th>bowling_team</th>\n",
       "      <th>striker</th>\n",
       "      <th>non_striker</th>\n",
       "      <th>...</th>\n",
       "      <th>extras</th>\n",
       "      <th>wides</th>\n",
       "      <th>noballs</th>\n",
       "      <th>byes</th>\n",
       "      <th>legbyes</th>\n",
       "      <th>penalty</th>\n",
       "      <th>wicket_type</th>\n",
       "      <th>player_dismissed</th>\n",
       "      <th>other_wicket_type</th>\n",
       "      <th>other_player_dismissed</th>\n",
       "    </tr>\n",
       "  </thead>\n",
       "  <tbody>\n",
       "    <tr>\n",
       "      <th>179058</th>\n",
       "      <td>1216492</td>\n",
       "      <td>2020/21</td>\n",
       "      <td>2020-09-19</td>\n",
       "      <td>Sheikh Zayed Stadium</td>\n",
       "      <td>1</td>\n",
       "      <td>0.1</td>\n",
       "      <td>Mumbai Indians</td>\n",
       "      <td>Chennai Super Kings</td>\n",
       "      <td>RG Sharma</td>\n",
       "      <td>Q de Kock</td>\n",
       "      <td>...</td>\n",
       "      <td>0</td>\n",
       "      <td>NaN</td>\n",
       "      <td>NaN</td>\n",
       "      <td>NaN</td>\n",
       "      <td>NaN</td>\n",
       "      <td>NaN</td>\n",
       "      <td>NaN</td>\n",
       "      <td>NaN</td>\n",
       "      <td>NaN</td>\n",
       "      <td>NaN</td>\n",
       "    </tr>\n",
       "    <tr>\n",
       "      <th>179059</th>\n",
       "      <td>1216492</td>\n",
       "      <td>2020/21</td>\n",
       "      <td>2020-09-19</td>\n",
       "      <td>Sheikh Zayed Stadium</td>\n",
       "      <td>1</td>\n",
       "      <td>0.2</td>\n",
       "      <td>Mumbai Indians</td>\n",
       "      <td>Chennai Super Kings</td>\n",
       "      <td>RG Sharma</td>\n",
       "      <td>Q de Kock</td>\n",
       "      <td>...</td>\n",
       "      <td>0</td>\n",
       "      <td>NaN</td>\n",
       "      <td>NaN</td>\n",
       "      <td>NaN</td>\n",
       "      <td>NaN</td>\n",
       "      <td>NaN</td>\n",
       "      <td>NaN</td>\n",
       "      <td>NaN</td>\n",
       "      <td>NaN</td>\n",
       "      <td>NaN</td>\n",
       "    </tr>\n",
       "    <tr>\n",
       "      <th>179060</th>\n",
       "      <td>1216492</td>\n",
       "      <td>2020/21</td>\n",
       "      <td>2020-09-19</td>\n",
       "      <td>Sheikh Zayed Stadium</td>\n",
       "      <td>1</td>\n",
       "      <td>0.3</td>\n",
       "      <td>Mumbai Indians</td>\n",
       "      <td>Chennai Super Kings</td>\n",
       "      <td>Q de Kock</td>\n",
       "      <td>RG Sharma</td>\n",
       "      <td>...</td>\n",
       "      <td>0</td>\n",
       "      <td>NaN</td>\n",
       "      <td>NaN</td>\n",
       "      <td>NaN</td>\n",
       "      <td>NaN</td>\n",
       "      <td>NaN</td>\n",
       "      <td>NaN</td>\n",
       "      <td>NaN</td>\n",
       "      <td>NaN</td>\n",
       "      <td>NaN</td>\n",
       "    </tr>\n",
       "    <tr>\n",
       "      <th>179061</th>\n",
       "      <td>1216492</td>\n",
       "      <td>2020/21</td>\n",
       "      <td>2020-09-19</td>\n",
       "      <td>Sheikh Zayed Stadium</td>\n",
       "      <td>1</td>\n",
       "      <td>0.4</td>\n",
       "      <td>Mumbai Indians</td>\n",
       "      <td>Chennai Super Kings</td>\n",
       "      <td>Q de Kock</td>\n",
       "      <td>RG Sharma</td>\n",
       "      <td>...</td>\n",
       "      <td>0</td>\n",
       "      <td>NaN</td>\n",
       "      <td>NaN</td>\n",
       "      <td>NaN</td>\n",
       "      <td>NaN</td>\n",
       "      <td>NaN</td>\n",
       "      <td>NaN</td>\n",
       "      <td>NaN</td>\n",
       "      <td>NaN</td>\n",
       "      <td>NaN</td>\n",
       "    </tr>\n",
       "    <tr>\n",
       "      <th>179062</th>\n",
       "      <td>1216492</td>\n",
       "      <td>2020/21</td>\n",
       "      <td>2020-09-19</td>\n",
       "      <td>Sheikh Zayed Stadium</td>\n",
       "      <td>1</td>\n",
       "      <td>0.5</td>\n",
       "      <td>Mumbai Indians</td>\n",
       "      <td>Chennai Super Kings</td>\n",
       "      <td>Q de Kock</td>\n",
       "      <td>RG Sharma</td>\n",
       "      <td>...</td>\n",
       "      <td>0</td>\n",
       "      <td>NaN</td>\n",
       "      <td>NaN</td>\n",
       "      <td>NaN</td>\n",
       "      <td>NaN</td>\n",
       "      <td>NaN</td>\n",
       "      <td>NaN</td>\n",
       "      <td>NaN</td>\n",
       "      <td>NaN</td>\n",
       "      <td>NaN</td>\n",
       "    </tr>\n",
       "  </tbody>\n",
       "</table>\n",
       "<p>5 rows × 22 columns</p>\n",
       "</div>"
      ],
      "text/plain": [
       "        match_id   season  start_date                 venue  innings  ball  \\\n",
       "179058   1216492  2020/21  2020-09-19  Sheikh Zayed Stadium        1   0.1   \n",
       "179059   1216492  2020/21  2020-09-19  Sheikh Zayed Stadium        1   0.2   \n",
       "179060   1216492  2020/21  2020-09-19  Sheikh Zayed Stadium        1   0.3   \n",
       "179061   1216492  2020/21  2020-09-19  Sheikh Zayed Stadium        1   0.4   \n",
       "179062   1216492  2020/21  2020-09-19  Sheikh Zayed Stadium        1   0.5   \n",
       "\n",
       "          batting_team         bowling_team    striker non_striker  ...  \\\n",
       "179058  Mumbai Indians  Chennai Super Kings  RG Sharma   Q de Kock  ...   \n",
       "179059  Mumbai Indians  Chennai Super Kings  RG Sharma   Q de Kock  ...   \n",
       "179060  Mumbai Indians  Chennai Super Kings  Q de Kock   RG Sharma  ...   \n",
       "179061  Mumbai Indians  Chennai Super Kings  Q de Kock   RG Sharma  ...   \n",
       "179062  Mumbai Indians  Chennai Super Kings  Q de Kock   RG Sharma  ...   \n",
       "\n",
       "       extras  wides  noballs  byes  legbyes  penalty  wicket_type  \\\n",
       "179058      0    NaN      NaN   NaN      NaN      NaN          NaN   \n",
       "179059      0    NaN      NaN   NaN      NaN      NaN          NaN   \n",
       "179060      0    NaN      NaN   NaN      NaN      NaN          NaN   \n",
       "179061      0    NaN      NaN   NaN      NaN      NaN          NaN   \n",
       "179062      0    NaN      NaN   NaN      NaN      NaN          NaN   \n",
       "\n",
       "        player_dismissed other_wicket_type other_player_dismissed  \n",
       "179058               NaN               NaN                    NaN  \n",
       "179059               NaN               NaN                    NaN  \n",
       "179060               NaN               NaN                    NaN  \n",
       "179061               NaN               NaN                    NaN  \n",
       "179062               NaN               NaN                    NaN  \n",
       "\n",
       "[5 rows x 22 columns]"
      ]
     },
     "execution_count": 119,
     "metadata": {},
     "output_type": "execute_result"
    }
   ],
   "source": [
    "df= pd.read_csv(r\"C:./Desktop/all_matches.csv\")\n",
    "csk=(df['season']=='2020/21')\n",
    "df_csk9=df[csk]\n",
    "\n",
    "cskb=(df_csk9['bowling_team']=='Chennai Super Kings')\n",
    "df_csk11=df_csk9[cskb]\n",
    "df_csk11.head()# matches by csk in 2020 as bowling team"
   ]
  },
  {
   "cell_type": "code",
   "execution_count": 120,
   "id": "0288e25c",
   "metadata": {},
   "outputs": [
    {
     "data": {
      "text/plain": [
       "<AxesSubplot:xlabel='striker'>"
      ]
     },
     "execution_count": 120,
     "metadata": {},
     "output_type": "execute_result"
    },
    {
     "data": {
      "image/png": "[encoded data removed]",
      "text/plain": [
       "<Figure size 432x288 with 1 Axes>"
      ]
     },
     "metadata": {
      "needs_background": "light"
     },
     "output_type": "display_data"
    }
   ],
   "source": [
    "#top 10 run scorers against csk in 2020 \n",
    "runs1 = df_csk11.groupby(['striker'])['runs_off_bat'].sum().reset_index()\n",
    "runs1.columns=['striker','Runs']\n",
    "y = runs1.sort_values(by='Runs',ascending=False ).head(10)\n",
    "y.plot.bar(x='striker')"
   ]
  },
  {
   "cell_type": "code",
   "execution_count": 121,
   "id": "071731c6",
   "metadata": {},
   "outputs": [
    {
     "data": {
      "text/plain": [
       "<AxesSubplot:xlabel='batting_team'>"
      ]
     },
     "execution_count": 121,
     "metadata": {},
     "output_type": "execute_result"
    },
    {
     "data": {
      "image/png": "[encoded data removed]",
      "text/plain": [
       "<Figure size 432x288 with 1 Axes>"
      ]
     },
     "metadata": {
      "needs_background": "light"
     },
     "output_type": "display_data"
    }
   ],
   "source": [
    "#top runs by teams against csk in 2020 \n",
    "runs1 = df_csk10.groupby(['batting_team'])['runs_off_bat'].sum().reset_index()\n",
    "runs1.columns=['batting_team','Runs']\n",
    "y = runs1.sort_values(by='Runs',ascending=False ).head(10)\n",
    "y.plot.bar(x='batting_team')"
   ]
  },
  {
   "cell_type": "code",
   "execution_count": 123,
   "id": "c93e95ad",
   "metadata": {},
   "outputs": [
    {
     "data": {
      "text/plain": [
       "<AxesSubplot:xlabel='bowler'>"
      ]
     },
     "execution_count": 123,
     "metadata": {},
     "output_type": "execute_result"
    },
    {
     "data": {
      "image/png": "[encoded data removed]",
      "text/plain": [
       "<Figure size 432x288 with 1 Axes>"
      ]
     },
     "metadata": {
      "needs_background": "light"
     },
     "output_type": "display_data"
    }
   ],
   "source": [
    "#Most wickets takers\n",
    "sub_data14 = df_csk11.loc[:, ['striker', 'bowler', 'wicket_type']]\n",
    "dismissal_kinds = ['caught',\n",
    " 'bowled',\n",
    " 'run out',\n",
    " 'lbw',\n",
    " 'caught and bowled',\n",
    " 'stumped',\n",
    " 'hit wicket']\n",
    "is_bowler = (sub_data14['wicket_type'] == 'bowled') | (sub_data14['wicket_type'] == 'caught') | (sub_data14['wicket_type'] == 'caught and bowled') | (sub_data14['wicket_type'] == 'stumped') | (sub_data14['wicket_type'] == 'lbw') | (sub_data14['wicket_type'] == 'hit wicket')\n",
    "bowler_data = sub_data14[is_bowler].loc[:, ['bowler']]\n",
    "bowler = bowler_data['bowler'].value_counts().keys().tolist()\n",
    "wickets = bowler_data['bowler'].value_counts().tolist()\n",
    "d1 = {'bowler':bowler,'Wickets':wickets}\n",
    "df1 = pd.DataFrame(d1)\n",
    "dfg=df1.head(10)\n",
    "dfg.plot.bar(x='bowler')"
   ]
  },
  {
   "cell_type": "code",
   "execution_count": 125,
   "id": "fb2618fd",
   "metadata": {},
   "outputs": [
    {
     "data": {
      "text/plain": [
       "<AxesSubplot:xlabel='batting_team'>"
      ]
     },
     "execution_count": 125,
     "metadata": {},
     "output_type": "execute_result"
    },
    {
     "data": {
      "image/png": "[encoded data removed]",
      "text/plain": [
       "<Figure size 432x288 with 1 Axes>"
      ]
     },
     "metadata": {
      "needs_background": "light"
     },
     "output_type": "display_data"
    }
   ],
   "source": [
    "#most extras by csk\n",
    "runs1 = df_csk11.groupby(['batting_team'])['extras'].sum().reset_index()\n",
    "runs1.columns=['batting_team','Runs']\n",
    "y = runs1.sort_values(by='Runs',ascending=False ).head(10)\n",
    "y.plot.bar(x='batting_team')"
   ]
  },
  {
   "cell_type": "code",
   "execution_count": 126,
   "id": "90a574a4",
   "metadata": {},
   "outputs": [
    {
     "data": {
      "image/png": "[encoded data removed]",
      "text/plain": [
       "<Figure size 1008x576 with 1 Axes>"
      ]
     },
     "metadata": {},
     "output_type": "display_data"
    }
   ],
   "source": [
    "#Wickets by csk bowlers\n",
    "df_csk11['wicket_type'].value_counts().plot.pie(autopct='%1.1f%%',figsize=(14,8),shadow=True,rotatelabels=True)\n",
    "plt.title('wicket type')\n",
    "plt.show()"
   ]
  },
  {
   "cell_type": "markdown",
   "id": "11447990",
   "metadata": {},
   "source": [
    "# overall 2021"
   ]
  },
  {
   "cell_type": "code",
   "execution_count": null,
   "id": "4e0098c1",
   "metadata": {},
   "outputs": [],
   "source": []
  }
 ],
 "metadata": {
  "kernelspec": {
   "display_name": "Python 3 (ipykernel)",
   "language": "python",
   "name": "python3"
  },
  "language_info": {
   "codemirror_mode": {
    "name": "ipython",
    "version": 3
   },
   "file_extension": ".py",
   "mimetype": "text/x-python",
   "name": "python",
   "nbconvert_exporter": "python",
   "pygments_lexer": "ipython3",
   "version": "3.9.0"
  }
 },
 "nbformat": 4,
 "nbformat_minor": 5
}
